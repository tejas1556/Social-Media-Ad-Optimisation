{
  "nbformat": 4,
  "nbformat_minor": 0,
  "metadata": {
    "colab": {
      "provenance": []
    },
    "kernelspec": {
      "name": "python3",
      "display_name": "Python 3"
    },
    "language_info": {
      "name": "python"
    }
  },
  "cells": [
    {
      "cell_type": "code",
      "execution_count": 1,
      "metadata": {
        "colab": {
          "base_uri": "https://localhost:8080/",
          "height": 309
        },
        "id": "cWmCMw5qpgeE",
        "outputId": "86fc1fc8-8e62-4d8b-d3fb-8ddaaae921ff"
      },
      "outputs": [
        {
          "output_type": "execute_result",
          "data": {
            "text/plain": [
              "   Campaign_ID Target_Audience     Campaign_Goal Duration Channel_Used  \\\n",
              "0       529013       Men 35-44    Product Launch  15 Days    Instagram   \n",
              "1       275352     Women 45-60  Market Expansion  15 Days     Facebook   \n",
              "2       692322       Men 45-60    Product Launch  15 Days    Instagram   \n",
              "3       675757       Men 25-34    Increase Sales  15 Days    Pinterest   \n",
              "4       535900       Men 45-60  Market Expansion  15 Days    Pinterest   \n",
              "\n",
              "   Conversion_Rate Acquisition_Cost       ROI     Location Language  Clicks  \\\n",
              "0             0.15          $500.00  5.790000    Las Vegas  Spanish     500   \n",
              "1             0.01          $500.00  7.210000  Los Angeles   French     500   \n",
              "2             0.08          $500.00  0.430000       Austin  Spanish     500   \n",
              "3             0.03          $500.00  0.909824        Miami  Spanish     293   \n",
              "4             0.13          $500.00  1.422828       Austin   French     293   \n",
              "\n",
              "   Impressions  Engagement_Score Customer_Segment        Date         Company  \n",
              "0         3000                 7           Health  2022-02-25      Aura Align  \n",
              "1         3000                 5             Home  2022-05-12  Hearth Harmony  \n",
              "2         3000                 9       Technology  2022-06-19   Cyber Circuit  \n",
              "3         1937                 1           Health  2022-09-08       Well Wish  \n",
              "4         1937                 1             Home  2022-08-24  Hearth Harmony  "
            ],
            "text/html": [
              "\n",
              "  <div id=\"df-0e227d83-61de-462a-987a-262fbf06b7b6\" class=\"colab-df-container\">\n",
              "    <div>\n",
              "<style scoped>\n",
              "    .dataframe tbody tr th:only-of-type {\n",
              "        vertical-align: middle;\n",
              "    }\n",
              "\n",
              "    .dataframe tbody tr th {\n",
              "        vertical-align: top;\n",
              "    }\n",
              "\n",
              "    .dataframe thead th {\n",
              "        text-align: right;\n",
              "    }\n",
              "</style>\n",
              "<table border=\"1\" class=\"dataframe\">\n",
              "  <thead>\n",
              "    <tr style=\"text-align: right;\">\n",
              "      <th></th>\n",
              "      <th>Campaign_ID</th>\n",
              "      <th>Target_Audience</th>\n",
              "      <th>Campaign_Goal</th>\n",
              "      <th>Duration</th>\n",
              "      <th>Channel_Used</th>\n",
              "      <th>Conversion_Rate</th>\n",
              "      <th>Acquisition_Cost</th>\n",
              "      <th>ROI</th>\n",
              "      <th>Location</th>\n",
              "      <th>Language</th>\n",
              "      <th>Clicks</th>\n",
              "      <th>Impressions</th>\n",
              "      <th>Engagement_Score</th>\n",
              "      <th>Customer_Segment</th>\n",
              "      <th>Date</th>\n",
              "      <th>Company</th>\n",
              "    </tr>\n",
              "  </thead>\n",
              "  <tbody>\n",
              "    <tr>\n",
              "      <th>0</th>\n",
              "      <td>529013</td>\n",
              "      <td>Men 35-44</td>\n",
              "      <td>Product Launch</td>\n",
              "      <td>15 Days</td>\n",
              "      <td>Instagram</td>\n",
              "      <td>0.15</td>\n",
              "      <td>$500.00</td>\n",
              "      <td>5.790000</td>\n",
              "      <td>Las Vegas</td>\n",
              "      <td>Spanish</td>\n",
              "      <td>500</td>\n",
              "      <td>3000</td>\n",
              "      <td>7</td>\n",
              "      <td>Health</td>\n",
              "      <td>2022-02-25</td>\n",
              "      <td>Aura Align</td>\n",
              "    </tr>\n",
              "    <tr>\n",
              "      <th>1</th>\n",
              "      <td>275352</td>\n",
              "      <td>Women 45-60</td>\n",
              "      <td>Market Expansion</td>\n",
              "      <td>15 Days</td>\n",
              "      <td>Facebook</td>\n",
              "      <td>0.01</td>\n",
              "      <td>$500.00</td>\n",
              "      <td>7.210000</td>\n",
              "      <td>Los Angeles</td>\n",
              "      <td>French</td>\n",
              "      <td>500</td>\n",
              "      <td>3000</td>\n",
              "      <td>5</td>\n",
              "      <td>Home</td>\n",
              "      <td>2022-05-12</td>\n",
              "      <td>Hearth Harmony</td>\n",
              "    </tr>\n",
              "    <tr>\n",
              "      <th>2</th>\n",
              "      <td>692322</td>\n",
              "      <td>Men 45-60</td>\n",
              "      <td>Product Launch</td>\n",
              "      <td>15 Days</td>\n",
              "      <td>Instagram</td>\n",
              "      <td>0.08</td>\n",
              "      <td>$500.00</td>\n",
              "      <td>0.430000</td>\n",
              "      <td>Austin</td>\n",
              "      <td>Spanish</td>\n",
              "      <td>500</td>\n",
              "      <td>3000</td>\n",
              "      <td>9</td>\n",
              "      <td>Technology</td>\n",
              "      <td>2022-06-19</td>\n",
              "      <td>Cyber Circuit</td>\n",
              "    </tr>\n",
              "    <tr>\n",
              "      <th>3</th>\n",
              "      <td>675757</td>\n",
              "      <td>Men 25-34</td>\n",
              "      <td>Increase Sales</td>\n",
              "      <td>15 Days</td>\n",
              "      <td>Pinterest</td>\n",
              "      <td>0.03</td>\n",
              "      <td>$500.00</td>\n",
              "      <td>0.909824</td>\n",
              "      <td>Miami</td>\n",
              "      <td>Spanish</td>\n",
              "      <td>293</td>\n",
              "      <td>1937</td>\n",
              "      <td>1</td>\n",
              "      <td>Health</td>\n",
              "      <td>2022-09-08</td>\n",
              "      <td>Well Wish</td>\n",
              "    </tr>\n",
              "    <tr>\n",
              "      <th>4</th>\n",
              "      <td>535900</td>\n",
              "      <td>Men 45-60</td>\n",
              "      <td>Market Expansion</td>\n",
              "      <td>15 Days</td>\n",
              "      <td>Pinterest</td>\n",
              "      <td>0.13</td>\n",
              "      <td>$500.00</td>\n",
              "      <td>1.422828</td>\n",
              "      <td>Austin</td>\n",
              "      <td>French</td>\n",
              "      <td>293</td>\n",
              "      <td>1937</td>\n",
              "      <td>1</td>\n",
              "      <td>Home</td>\n",
              "      <td>2022-08-24</td>\n",
              "      <td>Hearth Harmony</td>\n",
              "    </tr>\n",
              "  </tbody>\n",
              "</table>\n",
              "</div>\n",
              "    <div class=\"colab-df-buttons\">\n",
              "\n",
              "  <div class=\"colab-df-container\">\n",
              "    <button class=\"colab-df-convert\" onclick=\"convertToInteractive('df-0e227d83-61de-462a-987a-262fbf06b7b6')\"\n",
              "            title=\"Convert this dataframe to an interactive table.\"\n",
              "            style=\"display:none;\">\n",
              "\n",
              "  <svg xmlns=\"http://www.w3.org/2000/svg\" height=\"24px\" viewBox=\"0 -960 960 960\">\n",
              "    <path d=\"M120-120v-720h720v720H120Zm60-500h600v-160H180v160Zm220 220h160v-160H400v160Zm0 220h160v-160H400v160ZM180-400h160v-160H180v160Zm440 0h160v-160H620v160ZM180-180h160v-160H180v160Zm440 0h160v-160H620v160Z\"/>\n",
              "  </svg>\n",
              "    </button>\n",
              "\n",
              "  <style>\n",
              "    .colab-df-container {\n",
              "      display:flex;\n",
              "      gap: 12px;\n",
              "    }\n",
              "\n",
              "    .colab-df-convert {\n",
              "      background-color: #E8F0FE;\n",
              "      border: none;\n",
              "      border-radius: 50%;\n",
              "      cursor: pointer;\n",
              "      display: none;\n",
              "      fill: #1967D2;\n",
              "      height: 32px;\n",
              "      padding: 0 0 0 0;\n",
              "      width: 32px;\n",
              "    }\n",
              "\n",
              "    .colab-df-convert:hover {\n",
              "      background-color: #E2EBFA;\n",
              "      box-shadow: 0px 1px 2px rgba(60, 64, 67, 0.3), 0px 1px 3px 1px rgba(60, 64, 67, 0.15);\n",
              "      fill: #174EA6;\n",
              "    }\n",
              "\n",
              "    .colab-df-buttons div {\n",
              "      margin-bottom: 4px;\n",
              "    }\n",
              "\n",
              "    [theme=dark] .colab-df-convert {\n",
              "      background-color: #3B4455;\n",
              "      fill: #D2E3FC;\n",
              "    }\n",
              "\n",
              "    [theme=dark] .colab-df-convert:hover {\n",
              "      background-color: #434B5C;\n",
              "      box-shadow: 0px 1px 3px 1px rgba(0, 0, 0, 0.15);\n",
              "      filter: drop-shadow(0px 1px 2px rgba(0, 0, 0, 0.3));\n",
              "      fill: #FFFFFF;\n",
              "    }\n",
              "  </style>\n",
              "\n",
              "    <script>\n",
              "      const buttonEl =\n",
              "        document.querySelector('#df-0e227d83-61de-462a-987a-262fbf06b7b6 button.colab-df-convert');\n",
              "      buttonEl.style.display =\n",
              "        google.colab.kernel.accessAllowed ? 'block' : 'none';\n",
              "\n",
              "      async function convertToInteractive(key) {\n",
              "        const element = document.querySelector('#df-0e227d83-61de-462a-987a-262fbf06b7b6');\n",
              "        const dataTable =\n",
              "          await google.colab.kernel.invokeFunction('convertToInteractive',\n",
              "                                                    [key], {});\n",
              "        if (!dataTable) return;\n",
              "\n",
              "        const docLinkHtml = 'Like what you see? Visit the ' +\n",
              "          '<a target=\"_blank\" href=https://colab.research.google.com/notebooks/data_table.ipynb>data table notebook</a>'\n",
              "          + ' to learn more about interactive tables.';\n",
              "        element.innerHTML = '';\n",
              "        dataTable['output_type'] = 'display_data';\n",
              "        await google.colab.output.renderOutput(dataTable, element);\n",
              "        const docLink = document.createElement('div');\n",
              "        docLink.innerHTML = docLinkHtml;\n",
              "        element.appendChild(docLink);\n",
              "      }\n",
              "    </script>\n",
              "  </div>\n",
              "\n",
              "\n",
              "<div id=\"df-b5d9f404-ce4c-4751-be1a-80f41f6ab352\">\n",
              "  <button class=\"colab-df-quickchart\" onclick=\"quickchart('df-b5d9f404-ce4c-4751-be1a-80f41f6ab352')\"\n",
              "            title=\"Suggest charts\"\n",
              "            style=\"display:none;\">\n",
              "\n",
              "<svg xmlns=\"http://www.w3.org/2000/svg\" height=\"24px\"viewBox=\"0 0 24 24\"\n",
              "     width=\"24px\">\n",
              "    <g>\n",
              "        <path d=\"M19 3H5c-1.1 0-2 .9-2 2v14c0 1.1.9 2 2 2h14c1.1 0 2-.9 2-2V5c0-1.1-.9-2-2-2zM9 17H7v-7h2v7zm4 0h-2V7h2v10zm4 0h-2v-4h2v4z\"/>\n",
              "    </g>\n",
              "</svg>\n",
              "  </button>\n",
              "\n",
              "<style>\n",
              "  .colab-df-quickchart {\n",
              "      --bg-color: #E8F0FE;\n",
              "      --fill-color: #1967D2;\n",
              "      --hover-bg-color: #E2EBFA;\n",
              "      --hover-fill-color: #174EA6;\n",
              "      --disabled-fill-color: #AAA;\n",
              "      --disabled-bg-color: #DDD;\n",
              "  }\n",
              "\n",
              "  [theme=dark] .colab-df-quickchart {\n",
              "      --bg-color: #3B4455;\n",
              "      --fill-color: #D2E3FC;\n",
              "      --hover-bg-color: #434B5C;\n",
              "      --hover-fill-color: #FFFFFF;\n",
              "      --disabled-bg-color: #3B4455;\n",
              "      --disabled-fill-color: #666;\n",
              "  }\n",
              "\n",
              "  .colab-df-quickchart {\n",
              "    background-color: var(--bg-color);\n",
              "    border: none;\n",
              "    border-radius: 50%;\n",
              "    cursor: pointer;\n",
              "    display: none;\n",
              "    fill: var(--fill-color);\n",
              "    height: 32px;\n",
              "    padding: 0;\n",
              "    width: 32px;\n",
              "  }\n",
              "\n",
              "  .colab-df-quickchart:hover {\n",
              "    background-color: var(--hover-bg-color);\n",
              "    box-shadow: 0 1px 2px rgba(60, 64, 67, 0.3), 0 1px 3px 1px rgba(60, 64, 67, 0.15);\n",
              "    fill: var(--button-hover-fill-color);\n",
              "  }\n",
              "\n",
              "  .colab-df-quickchart-complete:disabled,\n",
              "  .colab-df-quickchart-complete:disabled:hover {\n",
              "    background-color: var(--disabled-bg-color);\n",
              "    fill: var(--disabled-fill-color);\n",
              "    box-shadow: none;\n",
              "  }\n",
              "\n",
              "  .colab-df-spinner {\n",
              "    border: 2px solid var(--fill-color);\n",
              "    border-color: transparent;\n",
              "    border-bottom-color: var(--fill-color);\n",
              "    animation:\n",
              "      spin 1s steps(1) infinite;\n",
              "  }\n",
              "\n",
              "  @keyframes spin {\n",
              "    0% {\n",
              "      border-color: transparent;\n",
              "      border-bottom-color: var(--fill-color);\n",
              "      border-left-color: var(--fill-color);\n",
              "    }\n",
              "    20% {\n",
              "      border-color: transparent;\n",
              "      border-left-color: var(--fill-color);\n",
              "      border-top-color: var(--fill-color);\n",
              "    }\n",
              "    30% {\n",
              "      border-color: transparent;\n",
              "      border-left-color: var(--fill-color);\n",
              "      border-top-color: var(--fill-color);\n",
              "      border-right-color: var(--fill-color);\n",
              "    }\n",
              "    40% {\n",
              "      border-color: transparent;\n",
              "      border-right-color: var(--fill-color);\n",
              "      border-top-color: var(--fill-color);\n",
              "    }\n",
              "    60% {\n",
              "      border-color: transparent;\n",
              "      border-right-color: var(--fill-color);\n",
              "    }\n",
              "    80% {\n",
              "      border-color: transparent;\n",
              "      border-right-color: var(--fill-color);\n",
              "      border-bottom-color: var(--fill-color);\n",
              "    }\n",
              "    90% {\n",
              "      border-color: transparent;\n",
              "      border-bottom-color: var(--fill-color);\n",
              "    }\n",
              "  }\n",
              "</style>\n",
              "\n",
              "  <script>\n",
              "    async function quickchart(key) {\n",
              "      const quickchartButtonEl =\n",
              "        document.querySelector('#' + key + ' button');\n",
              "      quickchartButtonEl.disabled = true;  // To prevent multiple clicks.\n",
              "      quickchartButtonEl.classList.add('colab-df-spinner');\n",
              "      try {\n",
              "        const charts = await google.colab.kernel.invokeFunction(\n",
              "            'suggestCharts', [key], {});\n",
              "      } catch (error) {\n",
              "        console.error('Error during call to suggestCharts:', error);\n",
              "      }\n",
              "      quickchartButtonEl.classList.remove('colab-df-spinner');\n",
              "      quickchartButtonEl.classList.add('colab-df-quickchart-complete');\n",
              "    }\n",
              "    (() => {\n",
              "      let quickchartButtonEl =\n",
              "        document.querySelector('#df-b5d9f404-ce4c-4751-be1a-80f41f6ab352 button');\n",
              "      quickchartButtonEl.style.display =\n",
              "        google.colab.kernel.accessAllowed ? 'block' : 'none';\n",
              "    })();\n",
              "  </script>\n",
              "</div>\n",
              "\n",
              "    </div>\n",
              "  </div>\n"
            ],
            "application/vnd.google.colaboratory.intrinsic+json": {
              "type": "dataframe",
              "variable_name": "data"
            }
          },
          "metadata": {},
          "execution_count": 1
        }
      ],
      "source": [
        "import pandas as pd\n",
        "import numpy as np\n",
        "# Load the dataset\n",
        "file_path = '/content/Social_Media_Advertising.csv'\n",
        "data = pd.read_csv(file_path)\n",
        "\n",
        "# Display the first few rows of the dataset\n",
        "data.head()"
      ]
    },
    {
      "cell_type": "code",
      "source": [
        "import pandas as pd\n",
        "from sklearn.preprocessing import LabelEncoder\n",
        "from sklearn.linear_model import LinearRegression, Ridge, Lasso\n",
        "from sklearn.cross_decomposition import PLSRegression\n",
        "from sklearn.metrics import mean_squared_error, r2_score\n",
        "from sklearn.model_selection import train_test_split\n",
        "import matplotlib.pyplot as plt\n",
        "import seaborn as sns\n",
        "\n",
        "# Load the dataset\n",
        "file_path = '/content/Social_Media_Advertising.csv'\n",
        "data = pd.read_csv(file_path)\n",
        "\n",
        "# Columns to encode\n",
        "categorical_columns = ['Target_Audience', 'Campaign_Goal', 'Channel_Used', 'Location', 'Language', 'Customer_Segment', 'Company']\n",
        "\n",
        "# Initialize label encoder\n",
        "label_encoder = LabelEncoder()\n",
        "\n",
        "# Apply label encoding to each categorical column\n",
        "for col in categorical_columns:\n",
        "    data[col] = label_encoder.fit_transform(data[col])\n",
        "\n",
        "# Convert 'Duration' column to numeric (extract the number of days)\n",
        "data['Duration'] = data['Duration'].str.extract('(\\d+)').astype(float)\n",
        "\n",
        "# Convert 'Acquisition_Cost' to numeric by removing dollar sign and commas\n",
        "data['Acquisition_Cost'] = data['Acquisition_Cost'].replace({'\\$': '', ',': ''}, regex=True).astype(float)\n",
        "\n",
        "# Drop the 'Campaign_ID' and 'Date' columns as they are not needed for correlation analysis\n",
        "data_cleaned = data.drop(columns=['Campaign_ID', 'Date'])\n",
        "\n",
        "# Compute the correlation matrix\n",
        "correlation_matrix = data_cleaned.corr()\n",
        "\n",
        "# Display correlation with 'ROI' and sort it\n",
        "roi_correlation = correlation_matrix['ROI'].sort_values(ascending=False)\n",
        "print(roi_correlation)"
      ],
      "metadata": {
        "colab": {
          "base_uri": "https://localhost:8080/"
        },
        "id": "_G_eBT76pmT6",
        "outputId": "826a7904-7b62-47de-d9ca-c89443bc6f67"
      },
      "execution_count": 2,
      "outputs": [
        {
          "output_type": "stream",
          "name": "stdout",
          "text": [
            "ROI                 1.000000\n",
            "Engagement_Score    0.354717\n",
            "Clicks              0.188343\n",
            "Impressions         0.166009\n",
            "Language            0.004138\n",
            "Location            0.002576\n",
            "Customer_Segment    0.002051\n",
            "Campaign_Goal       0.001956\n",
            "Conversion_Rate    -0.000249\n",
            "Company            -0.000336\n",
            "Duration           -0.001457\n",
            "Acquisition_Cost   -0.001659\n",
            "Target_Audience    -0.002019\n",
            "Channel_Used       -0.148481\n",
            "Name: ROI, dtype: float64\n"
          ]
        }
      ]
    },
    {
      "cell_type": "code",
      "source": [
        "# Display the correlation matrix heatmap\n",
        "plt.figure(figsize=(10, 8))\n",
        "sns.heatmap(data_cleaned.corr(), annot=True, cmap='coolwarm', fmt='.2f', linewidths=0.5)\n",
        "plt.title('Correlation Heatmap')\n",
        "plt.show()"
      ],
      "metadata": {
        "colab": {
          "base_uri": "https://localhost:8080/",
          "height": 821
        },
        "id": "275aV_Dxsh7c",
        "outputId": "9d042918-bffd-4016-d8bd-501ba3f57e2f"
      },
      "execution_count": 3,
      "outputs": [
        {
          "output_type": "display_data",
          "data": {
            "text/plain": [
              "<Figure size 1000x800 with 2 Axes>"
            ],
            "image/png": "[encoded data removed]"
          },
          "metadata": {}
        }
      ]
    },
    {
      "cell_type": "code",
      "source": [
        "features = ['Engagement_Score', 'Clicks', 'Impressions']\n",
        "\n",
        "# Define independent and dependent variables\n",
        "X = data_cleaned[features]\n",
        "y = data_cleaned['ROI']\n",
        "\n",
        "# Train-test split\n",
        "X_train, X_test, y_train, y_test = train_test_split(X, y, test_size=0.2, random_state=42)\n",
        "\n",
        "# OLS (Ordinary Least Squares) Regression\n",
        "ols_model = LinearRegression()\n",
        "ols_model.fit(X_train, y_train)\n",
        "y_pred_ols = ols_model.predict(X_test)\n",
        "\n",
        "# PLS (Partial Least Squares) Regression\n",
        "pls_model = PLSRegression(n_components=2)\n",
        "pls_model.fit(X_train, y_train)\n",
        "y_pred_pls = pls_model.predict(X_test)\n",
        "\n",
        "# Ridge Regression (L2 regularization)\n",
        "ridge_model = Ridge(alpha=1.0)\n",
        "ridge_model.fit(X_train, y_train)\n",
        "y_pred_ridge = ridge_model.predict(X_test)\n",
        "\n",
        "# Lasso Regression (L1 regularization)\n",
        "lasso_model = Lasso(alpha=0.1)\n",
        "lasso_model.fit(X_train, y_train)\n",
        "y_pred_lasso = lasso_model.predict(X_test)\n",
        "\n",
        "# Performance metrics (MSE and R^2)\n",
        "y_preds = [y_pred_ols, y_pred_pls, y_pred_ridge, y_pred_lasso]\n",
        "models = ['OLS', 'PLS', 'Ridge', 'Lasso']\n",
        "\n",
        "mse_scores = [mean_squared_error(y_test, y_pred) for y_pred in y_preds]\n",
        "r2_scores = [r2_score(y_test, y_pred) for y_pred in y_preds]\n",
        "\n",
        "# Plotting the comparison results\n",
        "fig, ax = plt.subplots(1, 2, figsize=(14, 6))\n",
        "\n",
        "# MSE Bar Plot\n",
        "ax[0].bar(models, mse_scores, color='lightblue')\n",
        "ax[0].set_title('Mean Squared Error (MSE) Comparison')\n",
        "ax[0].set_ylabel('MSE')\n",
        "\n",
        "# R^2 Bar Plot\n",
        "ax[1].bar(models, r2_scores, color='lightgreen')\n",
        "ax[1].set_title('R-squared (R²) Comparison')\n",
        "ax[1].set_ylabel('R²')\n",
        "\n",
        "plt.tight_layout()\n",
        "plt.show()"
      ],
      "metadata": {
        "colab": {
          "base_uri": "https://localhost:8080/",
          "height": 515
        },
        "id": "meg1VkZtsWDn",
        "outputId": "18174785-f645-4121-ac52-ad9ee2f5900e"
      },
      "execution_count": 4,
      "outputs": [
        {
          "output_type": "stream",
          "name": "stderr",
          "text": [
            "/usr/local/lib/python3.11/dist-packages/sklearn/linear_model/_coordinate_descent.py:695: ConvergenceWarning: Objective did not converge. You might want to increase the number of iterations, check the scale of the features or consider increasing regularisation. Duality gap: 5.484e+05, tolerance: 1.455e+02\n",
            "  model = cd_fast.enet_coordinate_descent(\n"
          ]
        },
        {
          "output_type": "display_data",
          "data": {
            "text/plain": [
              "<Figure size 1400x600 with 2 Axes>"
            ],
            "image/png": "[encoded data removed]"
          },
          "metadata": {}
        }
      ]
    },
    {
      "cell_type": "code",
      "source": [
        "# Select the most important features based on correlation with 'ROI'\n",
        "features = ['Engagement_Score', 'Clicks', 'Impressions',  'Channel_Used']\n",
        "\n",
        "# Define independent and dependent variables\n",
        "X = data_cleaned[features]\n",
        "y = data_cleaned['ROI']\n",
        "\n",
        "# Train-test split\n",
        "X_train, X_test, y_train, y_test = train_test_split(X, y, test_size=0.2, random_state=42)\n",
        "\n",
        "# OLS (Ordinary Least Squares) Regression\n",
        "ols_model = LinearRegression()\n",
        "ols_model.fit(X_train, y_train)\n",
        "y_pred_ols = ols_model.predict(X_test)\n",
        "\n",
        "# PLS (Partial Least Squares) Regression\n",
        "pls_model = PLSRegression(n_components=2)\n",
        "pls_model.fit(X_train, y_train)\n",
        "y_pred_pls = pls_model.predict(X_test)\n",
        "\n",
        "# Ridge Regression (L2 regularization)\n",
        "ridge_model = Ridge(alpha=1.0)\n",
        "ridge_model.fit(X_train, y_train)\n",
        "y_pred_ridge = ridge_model.predict(X_test)\n",
        "\n",
        "# Lasso Regression (L1 regularization)\n",
        "lasso_model = Lasso(alpha=0.1)\n",
        "lasso_model.fit(X_train, y_train)\n",
        "y_pred_lasso = lasso_model.predict(X_test)\n",
        "\n",
        "# Performance metrics (MSE and R^2)\n",
        "y_preds = [y_pred_ols, y_pred_pls, y_pred_ridge, y_pred_lasso]\n",
        "models = ['OLS', 'PLS', 'Ridge', 'Lasso']\n",
        "\n",
        "mse_scores = [mean_squared_error(y_test, y_pred) for y_pred in y_preds]\n",
        "r2_scores = [r2_score(y_test, y_pred) for y_pred in y_preds]\n",
        "\n",
        "# Plotting the comparison results\n",
        "fig, ax = plt.subplots(1, 2, figsize=(14, 6))\n",
        "\n",
        "# MSE Bar Plot\n",
        "ax[0].bar(models, mse_scores, color='lightblue')\n",
        "ax[0].set_title('Mean Squared Error (MSE) Comparison')\n",
        "ax[0].set_ylabel('MSE')\n",
        "\n",
        "# R^2 Bar Plot\n",
        "ax[1].bar(models, r2_scores, color='lightgreen')\n",
        "ax[1].set_title('R-squared (R²) Comparison')\n",
        "ax[1].set_ylabel('R²')\n",
        "\n",
        "plt.tight_layout()\n",
        "plt.show()\n",
        "\n"
      ],
      "metadata": {
        "colab": {
          "base_uri": "https://localhost:8080/",
          "height": 515
        },
        "id": "QCpUMXUfp2qu",
        "outputId": "3f80f699-99dc-4fbd-e8a6-d1c9faf8121e"
      },
      "execution_count": 5,
      "outputs": [
        {
          "output_type": "stream",
          "name": "stderr",
          "text": [
            "/usr/local/lib/python3.11/dist-packages/sklearn/linear_model/_coordinate_descent.py:695: ConvergenceWarning: Objective did not converge. You might want to increase the number of iterations, check the scale of the features or consider increasing regularisation. Duality gap: 5.485e+05, tolerance: 1.455e+02\n",
            "  model = cd_fast.enet_coordinate_descent(\n"
          ]
        },
        {
          "output_type": "display_data",
          "data": {
            "text/plain": [
              "<Figure size 1400x600 with 2 Axes>"
            ],
            "image/png": "[encoded data removed]"
          },
          "metadata": {}
        }
      ]
    },
    {
      "cell_type": "markdown",
      "source": [
        "since there is no significant change visible in graph , we suggest a hypothesis hypothesis - ( Channel_Used does not improve the model)"
      ],
      "metadata": {
        "id": "7YciKaoHuZGj"
      }
    },
    {
      "cell_type": "code",
      "source": [
        "import statsmodels.api as sm\n",
        "from statsmodels.tools.tools import add_constant\n",
        "\n",
        "# Fit the model without the 'Channel_Used' feature and 'Acquisition_Cost'\n",
        "X_no_channel = data_cleaned[['Engagement_Score', 'Clicks', 'Impressions']]\n",
        "X_no_channel = add_constant(X_no_channel)  # Add constant to the model\n",
        "y = data_cleaned['ROI']\n",
        "\n",
        "# Fit the model with the 'Channel_Used' feature\n",
        "X_with_channel = data_cleaned[['Engagement_Score', 'Clicks', 'Impressions', 'Channel_Used']]\n",
        "X_with_channel = add_constant(X_with_channel)  # Add constant to the model\n",
        "\n",
        "# Fit both models\n",
        "model_no_channel = sm.OLS(y, X_no_channel).fit()\n",
        "model_with_channel = sm.OLS(y, X_with_channel).fit()\n",
        "\n",
        "# Perform F-test\n",
        "f_test = model_with_channel.compare_f_test(model_no_channel)\n",
        "\n",
        "# Display the results of the F-test\n",
        "print(f\"F-statistic: {f_test[0]}\")\n",
        "print(f\"P-value: {f_test[1]}\")\n"
      ],
      "metadata": {
        "colab": {
          "base_uri": "https://localhost:8080/"
        },
        "id": "QEKtVf31rrEE",
        "outputId": "be5e50a2-3dec-49d7-892a-e5ec4a00a483"
      },
      "execution_count": 6,
      "outputs": [
        {
          "output_type": "stream",
          "name": "stdout",
          "text": [
            "F-statistic: 574.9540382359143\n",
            "P-value: 6.1885818283061975e-127\n"
          ]
        }
      ]
    },
    {
      "cell_type": "markdown",
      "source": [
        "\n",
        "F-statistic: 574.95: This is the value that quantifies how much better the model with the Channel_Used feature fits the data compared to the model without it. A higher F-statistic indicates that adding the Channel_Used feature significantly improves the model's explanatory power.\n",
        "P-value: 6.19e-127: This p-value is extremely small (close to zero). It indicates that the improvement in model fit when adding the Channel_Used feature is statistically significant. In other words, the null hypothesis (that Channel_Used does not improve the model) is rejected at virtually any common significance level (e.g., 0.05 or 0.01)."
      ],
      "metadata": {
        "id": "5Gspn9CuuCRC"
      }
    },
    {
      "cell_type": "code",
      "source": [
        "# OLS (Ordinary Least Squares) Regression\n",
        "ols_model = LinearRegression()\n",
        "ols_model.fit(X_train, y_train)\n",
        "ols_coefficients = ols_model.coef_\n",
        "\n",
        "# Ridge Regression (L2 regularization)\n",
        "ridge_model = Ridge(alpha=1.0)\n",
        "ridge_model.fit(X_train, y_train)\n",
        "ridge_coefficients = ridge_model.coef_\n",
        "\n",
        "# Lasso Regression (L1 regularization)\n",
        "lasso_model = Lasso(alpha=0.1)\n",
        "lasso_model.fit(X_train, y_train)\n",
        "lasso_coefficients = lasso_model.coef_\n",
        "\n",
        "# Display the coefficients\n",
        "print(\"OLS Coefficients:\", ols_coefficients)\n",
        "print(\"Ridge Coefficients:\", ridge_coefficients)\n",
        "print(\"Lasso Coefficients:\", lasso_coefficients)"
      ],
      "metadata": {
        "colab": {
          "base_uri": "https://localhost:8080/"
        },
        "id": "QSHEVQq5toqr",
        "outputId": "a06470bf-b3df-48c5-9718-90fc8ae9938e"
      },
      "execution_count": 7,
      "outputs": [
        {
          "output_type": "stream",
          "name": "stdout",
          "text": [
            "OLS Coefficients: [ 0.11102462  0.00169899 -0.00056384 -0.0836478 ]\n",
            "Ridge Coefficients: [ 0.11102456  0.00169899 -0.00056384 -0.08364751]\n",
            "Lasso Coefficients: [ 0.12253354  0.00148753 -0.0004924  -0.01964899]\n"
          ]
        },
        {
          "output_type": "stream",
          "name": "stderr",
          "text": [
            "/usr/local/lib/python3.11/dist-packages/sklearn/linear_model/_coordinate_descent.py:695: ConvergenceWarning: Objective did not converge. You might want to increase the number of iterations, check the scale of the features or consider increasing regularisation. Duality gap: 5.485e+05, tolerance: 1.455e+02\n",
            "  model = cd_fast.enet_coordinate_descent(\n"
          ]
        }
      ]
    },
    {
      "cell_type": "code",
      "source": [
        "# Adjust the max values and coefficients to match the correct number of features\n",
        "max_values_corrected = {\n",
        "    'Engagement_Score': data_cleaned['Engagement_Score'].max(),\n",
        "    'Clicks': data_cleaned['Clicks'].max(),\n",
        "    'Impressions': data_cleaned['Impressions'].max()\n",
        "}\n",
        "\n",
        "# Coefficients for each model (3 features + intercept)\n",
        "coeff_ols = [0.11102462, 0.00169899, -0.00056384]  # OLS Coefficients (3 features)\n",
        "coeff_ridge = [0.11102456, 0.00169899, -0.00056384]  # Ridge Coefficients (3 features)\n",
        "coeff_lasso = [0.12253354, 0.00148753, -0.0004924]  # Lasso Coefficients (3 features)\n",
        "\n",
        "# Corrected function to calculate max ROI\n",
        "def calculate_max_roi(coefficients, max_values):\n",
        "    intercept = 0  # No intercept in the coefficients list for this calculation\n",
        "    # Map coefficients to corresponding features and calculate ROI\n",
        "    return intercept + sum(coefficients[i] * max_values[feature] for i, feature in enumerate(max_values))\n",
        "\n",
        "# Calculate max ROI for each model\n",
        "max_roi_ols = calculate_max_roi(coeff_ols, max_values_corrected)\n",
        "max_roi_ridge = calculate_max_roi(coeff_ridge, max_values_corrected)\n",
        "max_roi_lasso = calculate_max_roi(coeff_lasso, max_values_corrected)\n",
        "\n",
        "max_roi_ols, max_roi_ridge, max_roi_lasso\n"
      ],
      "metadata": {
        "colab": {
          "base_uri": "https://localhost:8080/"
        },
        "id": "bwJucSnSxio5",
        "outputId": "4e611a18-66c3-4491-f61e-cb2fd2f93207"
      },
      "execution_count": 8,
      "outputs": [
        {
          "output_type": "execute_result",
          "data": {
            "text/plain": [
              "(1.409046200000006, 1.409045599999999, 1.6385353999999879)"
            ]
          },
          "metadata": {},
          "execution_count": 8
        }
      ]
    },
    {
      "cell_type": "markdown",
      "source": [
        "Above are the calcualted ROI from different method .\n"
      ],
      "metadata": {
        "id": "7PinyRzwZlGs"
      }
    },
    {
      "cell_type": "markdown",
      "source": [
        "#Using Genetic Algorithm"
      ],
      "metadata": {
        "id": "1TrfzzcB7y5A"
      }
    },
    {
      "cell_type": "markdown",
      "source": [],
      "metadata": {
        "id": "dhw3mNpUZj0h"
      }
    },
    {
      "cell_type": "code",
      "source": [
        "import random\n",
        "import numpy as np\n",
        "import pandas as pd\n",
        "from sklearn.preprocessing import MinMaxScaler\n",
        "\n",
        "# Load and clean the dataset\n",
        "file_path = '/content/Social_Media_Advertising.csv'\n",
        "data = pd.read_csv(file_path)\n",
        "\n",
        "# Clean the data\n",
        "data['Duration'] = data['Duration'].str.extract('(\\d+)').astype(float)\n",
        "data['Acquisition_Cost'] = data['Acquisition_Cost'].replace({'\\$': '', ',': ''}, regex=True).astype(float)\n",
        "categorical_columns = ['Target_Audience', 'Campaign_Goal', 'Channel_Used', 'Location', 'Language', 'Customer_Segment', 'Company']\n",
        "label_encoder = LabelEncoder()\n",
        "\n",
        "# Apply label encoding to each categorical column\n",
        "for col in categorical_columns:\n",
        "    data[col] = label_encoder.fit_transform(data[col])\n",
        "\n",
        "# Drop the 'Campaign_ID' and 'Date' columns as they are not needed for correlation analysis\n",
        "data_cleaned = data.drop(columns=['Campaign_ID', 'Date'])\n",
        "\n",
        "# Define features and target variable\n",
        "features = ['Engagement_Score', 'Clicks', 'Impressions', 'Channel_Used']\n",
        "X = data_cleaned[features]\n",
        "y = data_cleaned['ROI']\n",
        "\n",
        "# Normalize the feature values for better optimization\n",
        "scaler = MinMaxScaler()\n",
        "X_scaled = scaler.fit_transform(X)\n",
        "\n",
        "# Define the population size and number of generations\n",
        "population_size = 100\n",
        "num_generations = 50\n",
        "mutation_rate = 0.2\n",
        "crossover_rate = 0.7\n",
        "\n",
        "# Define the fitness function (Objective function to maximize ROI)\n",
        "def evaluate(individual):\n",
        "    coefficients = individual  # Coefficients for Engagement_Score, Clicks, Impressions, Channel_Used\n",
        "    # Calculate predicted ROI using the coefficients\n",
        "    roi_pred = coefficients[0] * X_scaled[:, 0] + coefficients[1] * X_scaled[:, 1] + coefficients[2] * X_scaled[:, 2] + coefficients[3] * X_scaled[:, 3]\n",
        "    # Calculate MSE (we minimize MSE to maximize ROI)\n",
        "    mse = np.mean((y - roi_pred) ** 2)\n",
        "    return -mse  # We want to maximize ROI, so we minimize MSE\n",
        "\n",
        "# Generate initial population (random coefficients for each individual)\n",
        "def create_individual():\n",
        "    return [random.uniform(-1.0, 1.0) for _ in range(4)]  # Random coefficients for 4 features\n",
        "\n",
        "# Create the initial population\n",
        "population = [create_individual() for _ in range(population_size)]\n",
        "\n",
        "# Function for crossover (blend of two individuals)\n",
        "def crossover(parent1, parent2):\n",
        "    if random.random() < crossover_rate:\n",
        "        point = random.randint(1, len(parent1) - 1)\n",
        "        offspring1 = parent1[:point] + parent2[point:]\n",
        "        offspring2 = parent2[:point] + parent1[point:]\n",
        "        return offspring1, offspring2\n",
        "    return parent1, parent2\n",
        "\n",
        "# Function for mutation (small random change in an individual)\n",
        "def mutate(individual):\n",
        "    if random.random() < mutation_rate:\n",
        "        idx = random.randint(0, len(individual) - 1)\n",
        "        individual[idx] += random.uniform(-0.1, 0.1)  # Random mutation\n",
        "    return individual\n",
        "\n",
        "# Function to select the best individuals based on their fitness\n",
        "def select(population):\n",
        "    fitness_values = [evaluate(individual) for individual in population]\n",
        "    # Sort population by fitness (lowest MSE is best)\n",
        "    sorted_population = [individual for _, individual in sorted(zip(fitness_values, population), key=lambda x: x[0])]\n",
        "    return sorted_population[:population_size // 2]  # Select the top 50%\n",
        "\n",
        "# Genetic Algorithm process\n",
        "for generation in range(num_generations):\n",
        "    # Selection: Choose the best individuals\n",
        "    selected_population = select(population)\n",
        "\n",
        "    # Crossover: Combine pairs of selected individuals\n",
        "    new_population = []\n",
        "    while len(new_population) < population_size:\n",
        "        parent1, parent2 = random.sample(selected_population, 2)\n",
        "        offspring1, offspring2 = crossover(parent1, parent2)\n",
        "        new_population.extend([offspring1, offspring2])\n",
        "\n",
        "    # Mutation: Apply mutation to the new population\n",
        "    population = [mutate(individual) for individual in new_population]\n",
        "\n",
        "    # Output the best individual and its fitness after each generation\n",
        "    best_individual = select(population)[0]\n",
        "    best_fitness = evaluate(best_individual)\n",
        "    print(f\"Generation {generation + 1}, Best Fitness (Negative MSE): {best_fitness}\")\n",
        "\n",
        "# Best solution found\n",
        "best_individual = select(population)[0]\n",
        "print(f\"Best Individual Coefficients: {best_individual}\")\n"
      ],
      "metadata": {
        "colab": {
          "base_uri": "https://localhost:8080/"
        },
        "id": "dTyCwqrr3H2n",
        "outputId": "1e8630ea-200f-4b18-cc4b-be0501ae0876"
      },
      "execution_count": 9,
      "outputs": [
        {
          "output_type": "stream",
          "name": "stdout",
          "text": [
            "Generation 1, Best Fitness (Negative MSE): -27.070245094812126\n",
            "Generation 2, Best Fitness (Negative MSE): -27.899501518875308\n",
            "Generation 3, Best Fitness (Negative MSE): -29.573177743485047\n",
            "Generation 4, Best Fitness (Negative MSE): -29.924310614091883\n",
            "Generation 5, Best Fitness (Negative MSE): -30.500040717325987\n",
            "Generation 6, Best Fitness (Negative MSE): -30.500040717325987\n",
            "Generation 7, Best Fitness (Negative MSE): -30.89733660469255\n",
            "Generation 8, Best Fitness (Negative MSE): -31.6835389732885\n",
            "Generation 9, Best Fitness (Negative MSE): -31.6835389732885\n",
            "Generation 10, Best Fitness (Negative MSE): -32.01255173260204\n",
            "Generation 11, Best Fitness (Negative MSE): -32.27961567845568\n",
            "Generation 12, Best Fitness (Negative MSE): -32.664005599155225\n",
            "Generation 13, Best Fitness (Negative MSE): -32.99639547659467\n",
            "Generation 14, Best Fitness (Negative MSE): -33.00529852172827\n",
            "Generation 15, Best Fitness (Negative MSE): -33.45709091624887\n",
            "Generation 16, Best Fitness (Negative MSE): -33.66468194324682\n",
            "Generation 17, Best Fitness (Negative MSE): -33.65335961785839\n",
            "Generation 18, Best Fitness (Negative MSE): -33.991291435071446\n",
            "Generation 19, Best Fitness (Negative MSE): -34.31961333583147\n",
            "Generation 20, Best Fitness (Negative MSE): -34.55394257449904\n",
            "Generation 21, Best Fitness (Negative MSE): -35.032075114209334\n",
            "Generation 22, Best Fitness (Negative MSE): -35.374144227728834\n",
            "Generation 23, Best Fitness (Negative MSE): -35.66732059521897\n",
            "Generation 24, Best Fitness (Negative MSE): -35.98039450961877\n",
            "Generation 25, Best Fitness (Negative MSE): -36.692538020443976\n",
            "Generation 26, Best Fitness (Negative MSE): -36.65930935223189\n",
            "Generation 27, Best Fitness (Negative MSE): -37.09823156649039\n",
            "Generation 28, Best Fitness (Negative MSE): -37.39204120755206\n",
            "Generation 29, Best Fitness (Negative MSE): -37.86686001178599\n",
            "Generation 30, Best Fitness (Negative MSE): -38.61936023205768\n",
            "Generation 31, Best Fitness (Negative MSE): -38.62844039222306\n",
            "Generation 32, Best Fitness (Negative MSE): -38.91985226922814\n",
            "Generation 33, Best Fitness (Negative MSE): -39.092688426605754\n",
            "Generation 34, Best Fitness (Negative MSE): -39.34239639193422\n",
            "Generation 35, Best Fitness (Negative MSE): -39.38207670108299\n",
            "Generation 36, Best Fitness (Negative MSE): -39.91404147545162\n",
            "Generation 37, Best Fitness (Negative MSE): -40.283910926406804\n",
            "Generation 38, Best Fitness (Negative MSE): -40.29224114465135\n",
            "Generation 39, Best Fitness (Negative MSE): -40.45035090760759\n",
            "Generation 40, Best Fitness (Negative MSE): -41.03517861993626\n",
            "Generation 41, Best Fitness (Negative MSE): -41.631345848073636\n",
            "Generation 42, Best Fitness (Negative MSE): -41.631345848073636\n",
            "Generation 43, Best Fitness (Negative MSE): -41.84376475293708\n",
            "Generation 44, Best Fitness (Negative MSE): -42.25377829406241\n",
            "Generation 45, Best Fitness (Negative MSE): -42.39298100921709\n",
            "Generation 46, Best Fitness (Negative MSE): -43.47074157243975\n",
            "Generation 47, Best Fitness (Negative MSE): -44.010684866114815\n",
            "Generation 48, Best Fitness (Negative MSE): -44.136567522335575\n",
            "Generation 49, Best Fitness (Negative MSE): -44.450957078585574\n",
            "Generation 50, Best Fitness (Negative MSE): -44.581069027039206\n",
            "Best Individual Coefficients: [-1.4958442198817226, -1.5739157725954993, -1.7047834029566233, -1.5168919082973076]\n"
          ]
        }
      ]
    },
    {
      "cell_type": "markdown",
      "source": [
        "Above coeff, were gviing negative ROI\n",
        "ensure that all coefficients are positive."
      ],
      "metadata": {
        "id": "klzk15qn50-C"
      }
    },
    {
      "cell_type": "code",
      "source": [
        "import random\n",
        "import numpy as np\n",
        "import pandas as pd\n",
        "from sklearn.preprocessing import MinMaxScaler\n",
        "\n",
        "# Load and clean the dataset\n",
        "file_path = '/content/Social_Media_Advertising.csv'\n",
        "data = pd.read_csv(file_path)\n",
        "\n",
        "# Clean the data\n",
        "data['Duration'] = data['Duration'].str.extract('(\\d+)').astype(float)\n",
        "data['Acquisition_Cost'] = data['Acquisition_Cost'].replace({'\\$': '', ',': ''}, regex=True).astype(float)\n",
        "categorical_columns = ['Target_Audience', 'Campaign_Goal', 'Channel_Used', 'Location', 'Language', 'Customer_Segment', 'Company']\n",
        "label_encoder = LabelEncoder()\n",
        "\n",
        "# Apply label encoding to each categorical column\n",
        "for col in categorical_columns:\n",
        "    data[col] = label_encoder.fit_transform(data[col])\n",
        "\n",
        "# Drop the 'Campaign_ID' and 'Date' columns as they are not needed for correlation analysis\n",
        "data_cleaned = data.drop(columns=['Campaign_ID', 'Date'])\n",
        "\n",
        "# Define features and target variable\n",
        "features = ['Engagement_Score', 'Clicks', 'Impressions', 'Channel_Used']\n",
        "X = data_cleaned[features]\n",
        "y = data_cleaned['ROI']\n",
        "\n",
        "# Normalize the feature values for better optimization\n",
        "scaler = MinMaxScaler()\n",
        "X_scaled = scaler.fit_transform(X)\n",
        "\n",
        "# Define the population size and number of generations\n",
        "population_size = 100\n",
        "num_generations = 50\n",
        "mutation_rate = 0.2\n",
        "crossover_rate = 0.7\n",
        "\n",
        "# Define the fitness function (Objective function to maximize ROI)\n",
        "def evaluate(individual):\n",
        "    coefficients = individual  # Coefficients for Engagement_Score, Clicks, Impressions, Channel_Used\n",
        "    # Calculate predicted ROI using the coefficients\n",
        "    roi_pred = coefficients[0] * X_scaled[:, 0] + coefficients[1] * X_scaled[:, 1] + coefficients[2] * X_scaled[:, 2] + coefficients[3] * X_scaled[:, 3]\n",
        "    # Calculate MSE (we minimize MSE to maximize ROI)\n",
        "    mse = np.mean((y - roi_pred) ** 2)\n",
        "    return -mse  # We want to maximize ROI, so we minimize MSE by using negative MSE\n",
        "\n",
        "# Generate initial population (random positive coefficients for each individual)\n",
        "def create_individual():\n",
        "    return [random.uniform(0.01, 1.0) for _ in range(4)]  # Ensure positive coefficients for all features\n",
        "\n",
        "# Create the initial population\n",
        "population = [create_individual() for _ in range(population_size)]\n",
        "\n",
        "# Function for crossover (blend of two individuals)\n",
        "def crossover(parent1, parent2):\n",
        "    if random.random() < crossover_rate:\n",
        "        point = random.randint(1, len(parent1) - 1)\n",
        "        offspring1 = parent1[:point] + parent2[point:]\n",
        "        offspring2 = parent2[:point] + parent1[point:]\n",
        "        return offspring1, offspring2\n",
        "    return parent1, parent2\n",
        "\n",
        "# Function for mutation (small random change in an individual)\n",
        "def mutate(individual):\n",
        "    if random.random() < mutation_rate:\n",
        "        idx = random.randint(0, len(individual) - 1)\n",
        "        individual[idx] += random.uniform(0.01, 0.1)  # Ensure mutation keeps values positive\n",
        "        # Ensure no coefficient is negative (force positivity)\n",
        "        individual[idx] = max(individual[idx], 0.01)  # Prevent negative values by resetting to a small positive value\n",
        "    return individual\n",
        "\n",
        "# Function to select the best individuals based on their fitness\n",
        "def select(population):\n",
        "    fitness_values = [evaluate(individual) for individual in population]\n",
        "    # Sort population by fitness (lowest MSE is best)\n",
        "    sorted_population = [individual for _, individual in sorted(zip(fitness_values, population), key=lambda x: x[0])]\n",
        "    return sorted_population[:population_size // 2]  # Select the top 50%\n",
        "\n",
        "# Genetic Algorithm process\n",
        "for generation in range(num_generations):\n",
        "    # Selection: Choose the best individuals\n",
        "    selected_population = select(population)\n",
        "\n",
        "    # Crossover: Combine pairs of selected individuals\n",
        "    new_population = []\n",
        "    while len(new_population) < population_size:\n",
        "        parent1, parent2 = random.sample(selected_population, 2)\n",
        "        offspring1, offspring2 = crossover(parent1, parent2)\n",
        "        new_population.extend([offspring1, offspring2])\n",
        "\n",
        "    # Mutation: Apply mutation to the new population\n",
        "    population = [mutate(individual) for individual in new_population]\n",
        "\n",
        "    # Output the best individual and its fitness after each generation\n",
        "    best_individual = select(population)[0]\n",
        "    best_fitness = evaluate(best_individual)\n",
        "    print(f\"Generation {generation + 1}, Best Fitness (Negative MSE): {best_fitness}\")\n",
        "\n",
        "# Best solution found\n",
        "best_individual = select(population)[0]\n",
        "print(f\"Best Individual Coefficients: {best_individual}\")\n"
      ],
      "metadata": {
        "colab": {
          "base_uri": "https://localhost:8080/"
        },
        "id": "YQkimOom3o1P",
        "outputId": "51fe086b-3681-4550-8ebe-5e422fa271ca"
      },
      "execution_count": 10,
      "outputs": [
        {
          "output_type": "stream",
          "name": "stdout",
          "text": [
            "Generation 1, Best Fitness (Negative MSE): -14.529366326697037\n",
            "Generation 2, Best Fitness (Negative MSE): -14.529366326697037\n",
            "Generation 3, Best Fitness (Negative MSE): -14.676443164671532\n",
            "Generation 4, Best Fitness (Negative MSE): -14.855445621492953\n",
            "Generation 5, Best Fitness (Negative MSE): -14.901873774922848\n",
            "Generation 6, Best Fitness (Negative MSE): -14.930079123150046\n",
            "Generation 7, Best Fitness (Negative MSE): -15.040176448324114\n",
            "Generation 8, Best Fitness (Negative MSE): -15.233890673171384\n",
            "Generation 9, Best Fitness (Negative MSE): -15.233890673171384\n",
            "Generation 10, Best Fitness (Negative MSE): -15.233890673171384\n",
            "Generation 11, Best Fitness (Negative MSE): -15.233890673171384\n",
            "Generation 12, Best Fitness (Negative MSE): -15.233890673171384\n",
            "Generation 13, Best Fitness (Negative MSE): -15.233890673171384\n",
            "Generation 14, Best Fitness (Negative MSE): -15.233890673171384\n",
            "Generation 15, Best Fitness (Negative MSE): -15.233890673171384\n",
            "Generation 16, Best Fitness (Negative MSE): -15.233890673171384\n",
            "Generation 17, Best Fitness (Negative MSE): -15.233890673171384\n",
            "Generation 18, Best Fitness (Negative MSE): -15.233890673171384\n",
            "Generation 19, Best Fitness (Negative MSE): -15.233890673171384\n",
            "Generation 20, Best Fitness (Negative MSE): -15.233890673171384\n",
            "Generation 21, Best Fitness (Negative MSE): -15.233890673171384\n",
            "Generation 22, Best Fitness (Negative MSE): -15.233890673171384\n",
            "Generation 23, Best Fitness (Negative MSE): -15.233890673171384\n",
            "Generation 24, Best Fitness (Negative MSE): -15.233890673171384\n",
            "Generation 25, Best Fitness (Negative MSE): -15.233890673171384\n",
            "Generation 26, Best Fitness (Negative MSE): -15.233890673171384\n",
            "Generation 27, Best Fitness (Negative MSE): -15.233890673171384\n",
            "Generation 28, Best Fitness (Negative MSE): -15.233890673171384\n",
            "Generation 29, Best Fitness (Negative MSE): -15.233890673171384\n",
            "Generation 30, Best Fitness (Negative MSE): -15.233890673171384\n",
            "Generation 31, Best Fitness (Negative MSE): -15.233890673171384\n",
            "Generation 32, Best Fitness (Negative MSE): -15.233890673171384\n",
            "Generation 33, Best Fitness (Negative MSE): -15.233890673171384\n",
            "Generation 34, Best Fitness (Negative MSE): -15.233890673171384\n",
            "Generation 35, Best Fitness (Negative MSE): -15.233890673171384\n",
            "Generation 36, Best Fitness (Negative MSE): -15.233890673171384\n",
            "Generation 37, Best Fitness (Negative MSE): -15.233890673171384\n",
            "Generation 38, Best Fitness (Negative MSE): -15.233890673171384\n",
            "Generation 39, Best Fitness (Negative MSE): -15.233890673171384\n",
            "Generation 40, Best Fitness (Negative MSE): -15.233890673171384\n",
            "Generation 41, Best Fitness (Negative MSE): -15.233890673171384\n",
            "Generation 42, Best Fitness (Negative MSE): -15.233890673171384\n",
            "Generation 43, Best Fitness (Negative MSE): -15.233890673171384\n",
            "Generation 44, Best Fitness (Negative MSE): -15.233890673171384\n",
            "Generation 45, Best Fitness (Negative MSE): -15.233890673171384\n",
            "Generation 46, Best Fitness (Negative MSE): -15.233890673171384\n",
            "Generation 47, Best Fitness (Negative MSE): -15.233890673171384\n",
            "Generation 48, Best Fitness (Negative MSE): -15.233890673171384\n",
            "Generation 49, Best Fitness (Negative MSE): -15.233890673171384\n",
            "Generation 50, Best Fitness (Negative MSE): -15.233890673171384\n",
            "Best Individual Coefficients: [0.03676967085055023, 0.19244062926740726, 0.012630852585758247, 0.06742776370674267]\n"
          ]
        }
      ]
    },
    {
      "cell_type": "code",
      "source": [
        "# Coefficients from the best individual\n",
        "best_individual = [0.06135088425536016, 0.041196191740407326, 0.01405844500390575, 0.03504901450590169]\n",
        "\n",
        "# Maximum values for each feature\n",
        "max_values = {\n",
        "    'Engagement_Score': data_cleaned['Engagement_Score'].max(),\n",
        "    'Clicks': data_cleaned['Clicks'].max(),\n",
        "    'Impressions': data_cleaned['Impressions'].max(),\n",
        "    'Channel_Used': data_cleaned['Channel_Used'].max()\n",
        "}\n",
        "\n",
        "# Calculate the predicted ROI using the coefficients and the max values\n",
        "roi_pred = best_individual[0] + \\\n",
        "           (best_individual[1] * max_values['Engagement_Score']) + \\\n",
        "           (best_individual[2] * max_values['Clicks']) + \\\n",
        "           (best_individual[3] * max_values['Impressions']) + \\\n",
        "           (best_individual[3] * max_values['Channel_Used'])  # Same coefficient for Channel_Used\n",
        "\n",
        "roi_pred"
      ],
      "metadata": {
        "colab": {
          "base_uri": "https://localhost:8080/"
        },
        "id": "HwXx0VaG59V9",
        "outputId": "c4193e85-c09c-499b-e82e-e2710f926946"
      },
      "execution_count": 11,
      "outputs": [
        {
          "output_type": "execute_result",
          "data": {
            "text/plain": [
              "4768.79800070961"
            ]
          },
          "metadata": {},
          "execution_count": 11
        }
      ]
    },
    {
      "cell_type": "code",
      "source": [
        "max_values"
      ],
      "metadata": {
        "colab": {
          "base_uri": "https://localhost:8080/"
        },
        "id": "YDQyQ8Dd7V-y",
        "outputId": "ba598d1b-f21a-4fd9-a506-e3b31ecdad12"
      },
      "execution_count": 12,
      "outputs": [
        {
          "output_type": "execute_result",
          "data": {
            "text/plain": [
              "{'Engagement_Score': 10,\n",
              " 'Clicks': 40000,\n",
              " 'Impressions': 120000,\n",
              " 'Channel_Used': 3}"
            ]
          },
          "metadata": {},
          "execution_count": 12
        }
      ]
    },
    {
      "cell_type": "markdown",
      "source": [
        "The values used in calculating the ROI based on the best individual coefficients are:\n",
        "\n",
        "Engagement_Score: 10\n",
        "Clicks: 40,000\n",
        "Impressions: 120,000\n",
        "Channel_Used: 3\n",
        "These are the maximum values for each feature in the dataset, and they were used to compute the maximum ROI of 4,768.80"
      ],
      "metadata": {
        "id": "Sr4LdjqF7Zse"
      }
    },
    {
      "cell_type": "markdown",
      "source": [
        "Linear Regression Coefficients (OLS, Ridge, Lasso):\n",
        "In standard linear regression, coefficients are calculated through optimization techniques that minimize the Mean Squared Error (MSE) between the predicted and actual target variable. This is typically done using analytical methods like matrix algebra or iterative methods (gradient descent).\n",
        "Coefficients from Genetic Algorithm:\n",
        "In the GA, we are optimizing for the best set of coefficients that minimize the MSE and maximize ROI. The GA is not restricted to the standard linear regression assumptions; it explores a broader search space to find a set of coefficients that gives the best fit for the data.\n",
        "The GA's objective is to find the coefficients that maximize ROI by minimizing MSE, but it can result in different coefficients than those obtained through traditional regression methods. The GA iteratively adjusts coefficients through crossover, mutation, and selection to evolve the population towards the best solution.\n",
        "To summarize:\n",
        "The Genetic Algorithm is essentially a global search method that explores the space of possible solutions and finds coefficients that optimize the objective function (minimizing MSE, maximizing ROI).\n",
        "Linear regression gives you the exact solution using an analytical or numerical method that minimizes the error between predicted and actual values."
      ],
      "metadata": {
        "id": "Q-exfohK7M4D"
      }
    },
    {
      "cell_type": "markdown",
      "source": [
        "# Bayesian Optimization with XGBoost:"
      ],
      "metadata": {
        "id": "tJR1Zab_MaNW"
      }
    },
    {
      "cell_type": "code",
      "source": [
        "from hyperopt import fmin, tpe, hp, Trials\n",
        "import xgboost as xgb\n",
        "from sklearn.model_selection import train_test_split\n",
        "from sklearn.metrics import mean_squared_error, r2_score\n",
        "\n",
        "# Define features and target variable\n",
        "X = data_cleaned[['Engagement_Score', 'Clicks', 'Impressions', 'Channel_Used']]\n",
        "y = data_cleaned['ROI']\n",
        "\n",
        "# Train-test split\n",
        "X_train, X_test, y_train, y_test = train_test_split(X, y, test_size=0.2, random_state=42)\n",
        "\n",
        "# Define the search space for hyperparameters\n",
        "space = {\n",
        "    'learning_rate': hp.uniform('learning_rate', 0.01, 0.2),\n",
        "    'n_estimators': hp.quniform('n_estimators', 50, 500, 1),\n",
        "    'max_depth': hp.quniform('max_depth', 3, 10, 1),\n",
        "    'subsample': hp.uniform('subsample', 0.5, 1.0),\n",
        "    'colsample_bytree': hp.uniform('colsample_bytree', 0.5, 1.0)\n",
        "}\n",
        "\n",
        "# Define the objective function (to minimize MSE)\n",
        "def objective(params):\n",
        "    model = xgb.XGBRegressor(\n",
        "        objective='reg:squarederror',\n",
        "        learning_rate=params['learning_rate'],\n",
        "        n_estimators=int(params['n_estimators']),\n",
        "        max_depth=int(params['max_depth']),\n",
        "        subsample=params['subsample'],\n",
        "        colsample_bytree=params['colsample_bytree'],\n",
        "        random_state=42\n",
        "    )\n",
        "\n",
        "    model.fit(X_train, y_train)\n",
        "    y_pred = model.predict(X_test)\n",
        "    mse = mean_squared_error(y_test, y_pred)\n",
        "\n",
        "    return mse  # Return MSE to minimize it\n",
        "\n",
        "# Run the optimization\n",
        "trials = Trials()\n",
        "best = fmin(fn=objective,\n",
        "            space=space,\n",
        "            algo=tpe.suggest,\n",
        "            max_evals=50,  # Number of iterations for optimization\n",
        "            trials=trials)\n",
        "\n",
        "# Print the best hyperparameters found by Bayesian Optimization\n",
        "print(\"Best Hyperparameters:\", best)\n",
        "\n",
        "# Evaluate the model with the best hyperparameters\n",
        "best_model = xgb.XGBRegressor(\n",
        "    objective='reg:squarederror',\n",
        "    learning_rate=best['learning_rate'],\n",
        "    n_estimators=int(best['n_estimators']),\n",
        "    max_depth=int(best['max_depth']),\n",
        "    subsample=best['subsample'],\n",
        "    colsample_bytree=best['colsample_bytree'],\n",
        "    random_state=42\n",
        ")\n",
        "\n",
        "best_model.fit(X_train, y_train)\n",
        "y_pred_best = best_model.predict(X_test)\n",
        "\n",
        "# Evaluate the model on the test set\n",
        "mse_best = mean_squared_error(y_test, y_pred_best)\n",
        "r2_best = r2_score(y_test, y_pred_best)\n",
        "\n",
        "print(f\"Test MSE: {mse_best}\")\n",
        "print(f\"Test R²: {r2_best}\")\n"
      ],
      "metadata": {
        "colab": {
          "base_uri": "https://localhost:8080/"
        },
        "id": "qzP7lFTz7NbK",
        "outputId": "d9db0b66-bf66-40a0-b1e5-8569db2b7c97"
      },
      "execution_count": 14,
      "outputs": [
        {
          "output_type": "stream",
          "name": "stdout",
          "text": [
            "100%|██████████| 50/50 [02:02<00:00,  2.46s/trial, best loss: 4.038327122564561]\n",
            "Best Hyperparameters: {'colsample_bytree': np.float64(0.9510527538294311), 'learning_rate': np.float64(0.011687439712309932), 'max_depth': np.float64(4.0), 'n_estimators': np.float64(371.0), 'subsample': np.float64(0.6778723733727583)}\n",
            "Test MSE: 4.038327122564561\n",
            "Test R²: 0.3319665951995521\n"
          ]
        }
      ]
    },
    {
      "cell_type": "code",
      "source": [
        "from hyperopt import fmin, tpe, hp, Trials\n",
        "import xgboost as xgb\n",
        "from sklearn.model_selection import train_test_split\n",
        "from sklearn.metrics import mean_squared_error, r2_score\n",
        "\n",
        "# Define features and target variable\n",
        "X = data_cleaned[['Engagement_Score', 'Clicks', 'Impressions', 'Channel_Used']]\n",
        "y = data_cleaned['ROI']\n",
        "\n",
        "# Train-test split\n",
        "X_train, X_test, y_train, y_test = train_test_split(X, y, test_size=0.2, random_state=42)\n",
        "\n",
        "# Define the expanded search space for hyperparameters\n",
        "space = {\n",
        "    'learning_rate': hp.uniform('learning_rate', 0.01, 0.2),          # Learning rate (shrinkage)\n",
        "    'n_estimators': hp.quniform('n_estimators', 100, 1000, 1),        # Number of boosting rounds\n",
        "    'max_depth': hp.quniform('max_depth', 3, 10, 1),                   # Max depth of the tree\n",
        "    'subsample': hp.uniform('subsample', 0.5, 1.0),                    # Fraction of training samples\n",
        "    'colsample_bytree': hp.uniform('colsample_bytree', 0.5, 1.0),      # Fraction of features\n",
        "    'gamma': hp.uniform('gamma', 0, 1),                                # Minimum loss reduction\n",
        "    'lambda_reg': hp.uniform('lambda_reg', 0, 1),                      # L2 regularization term\n",
        "    'alpha': hp.uniform('alpha', 0, 1)                                 # L1 regularization term\n",
        "}\n",
        "\n",
        "# Define the objective function (to minimize MSE)\n",
        "def objective(params):\n",
        "    model = xgb.XGBRegressor(\n",
        "        objective='reg:squarederror',\n",
        "        learning_rate=params['learning_rate'],\n",
        "        n_estimators=int(params['n_estimators']),\n",
        "        max_depth=int(params['max_depth']),\n",
        "        subsample=params['subsample'],\n",
        "        colsample_bytree=params['colsample_bytree'],\n",
        "        gamma=params['gamma'],\n",
        "        lambda_reg=params['lambda_reg'],  # Renamed lambda to lambda_reg\n",
        "        alpha=params['alpha'],\n",
        "        random_state=42\n",
        "    )\n",
        "\n",
        "    model.fit(X_train, y_train)\n",
        "    y_pred = model.predict(X_test)\n",
        "    mse = mean_squared_error(y_test, y_pred)\n",
        "\n",
        "    return mse  # Return MSE to minimize it\n",
        "\n",
        "# Run the optimization\n",
        "trials = Trials()\n",
        "best = fmin(fn=objective,\n",
        "            space=space,\n",
        "            algo=tpe.suggest,\n",
        "            max_evals=100,  # Number of iterations for optimization\n",
        "            trials=trials)\n",
        "\n",
        "# Print the best hyperparameters found by Bayesian Optimization\n",
        "print(\"Best Hyperparameters:\", best)\n",
        "\n",
        "# Evaluate the model with the best hyperparameters\n",
        "best_model = xgb.XGBRegressor(\n",
        "    objective='reg:squarederror',\n",
        "    learning_rate=best['learning_rate'],\n",
        "    n_estimators=int(best['n_estimators']),\n",
        "    max_depth=int(best['max_depth']),\n",
        "    subsample=best['subsample'],\n",
        "    colsample_bytree=best['colsample_bytree'],\n",
        "    gamma=best['gamma'],\n",
        "    lambda_reg=best['lambda_reg'],  # Renamed lambda to lambda_reg\n",
        "    alpha=best['alpha'],\n",
        "    random_state=42\n",
        ")\n",
        "\n",
        "best_model.fit(X_train, y_train)\n",
        "y_pred_best = best_model.predict(X_test)\n",
        "\n",
        "# Evaluate the model on the test set\n",
        "mse_best = mean_squared_error(y_test, y_pred_best)\n",
        "r2_best = r2_score(y_test, y_pred_best)\n",
        "\n",
        "print(f\"Test MSE: {mse_best}\")\n",
        "print(f\"Test R²: {r2_best}\")\n"
      ],
      "metadata": {
        "colab": {
          "base_uri": "https://localhost:8080/"
        },
        "id": "KOgyMoDgMswa",
        "outputId": "f3c1c15d-dcb4-4d78-e676-f3acefb4a672"
      },
      "execution_count": 16,
      "outputs": [
        {
          "output_type": "stream",
          "name": "stdout",
          "text": [
            "\r  0%|          | 0/100 [00:00<?, ?trial/s, best loss=?]"
          ]
        },
        {
          "output_type": "stream",
          "name": "stderr",
          "text": [
            "/usr/local/lib/python3.11/dist-packages/xgboost/core.py:158: UserWarning: [15:22:05] WARNING: /workspace/src/learner.cc:740: \n",
            "Parameters: { \"lambda_reg\" } are not used.\n",
            "\n",
            "  warnings.warn(smsg, UserWarning)\n",
            "\n"
          ]
        },
        {
          "output_type": "stream",
          "name": "stdout",
          "text": [
            "\r  1%|          | 1/100 [00:06<10:04,  6.11s/trial, best loss: 4.041272358999948]"
          ]
        },
        {
          "output_type": "stream",
          "name": "stderr",
          "text": [
            "/usr/local/lib/python3.11/dist-packages/xgboost/core.py:158: UserWarning: [15:22:11] WARNING: /workspace/src/learner.cc:740: \n",
            "Parameters: { \"lambda_reg\" } are not used.\n",
            "\n",
            "  warnings.warn(smsg, UserWarning)\n",
            "\n"
          ]
        },
        {
          "output_type": "stream",
          "name": "stdout",
          "text": [
            "\r  2%|▏         | 2/100 [00:16<13:41,  8.39s/trial, best loss: 4.041272358999948]"
          ]
        },
        {
          "output_type": "stream",
          "name": "stderr",
          "text": [
            "/usr/local/lib/python3.11/dist-packages/xgboost/core.py:158: UserWarning: [15:22:21] WARNING: /workspace/src/learner.cc:740: \n",
            "Parameters: { \"lambda_reg\" } are not used.\n",
            "\n",
            "  warnings.warn(smsg, UserWarning)\n",
            "\n"
          ]
        },
        {
          "output_type": "stream",
          "name": "stdout",
          "text": [
            "\r  3%|▎         | 3/100 [00:17<08:15,  5.11s/trial, best loss: 4.041272358999948]"
          ]
        },
        {
          "output_type": "stream",
          "name": "stderr",
          "text": [
            "/usr/local/lib/python3.11/dist-packages/xgboost/core.py:158: UserWarning: [15:22:22] WARNING: /workspace/src/learner.cc:740: \n",
            "Parameters: { \"lambda_reg\" } are not used.\n",
            "\n",
            "  warnings.warn(smsg, UserWarning)\n",
            "\n"
          ]
        },
        {
          "output_type": "stream",
          "name": "stdout",
          "text": [
            "\r  4%|▍         | 4/100 [00:27<11:19,  7.07s/trial, best loss: 4.041272358999948]"
          ]
        },
        {
          "output_type": "stream",
          "name": "stderr",
          "text": [
            "/usr/local/lib/python3.11/dist-packages/xgboost/core.py:158: UserWarning: [15:22:32] WARNING: /workspace/src/learner.cc:740: \n",
            "Parameters: { \"lambda_reg\" } are not used.\n",
            "\n",
            "  warnings.warn(smsg, UserWarning)\n",
            "\n"
          ]
        },
        {
          "output_type": "stream",
          "name": "stdout",
          "text": [
            "\r  5%|▌         | 5/100 [00:29<08:14,  5.20s/trial, best loss: 4.041272358999948]"
          ]
        },
        {
          "output_type": "stream",
          "name": "stderr",
          "text": [
            "/usr/local/lib/python3.11/dist-packages/xgboost/core.py:158: UserWarning: [15:22:34] WARNING: /workspace/src/learner.cc:740: \n",
            "Parameters: { \"lambda_reg\" } are not used.\n",
            "\n",
            "  warnings.warn(smsg, UserWarning)\n",
            "\n"
          ]
        },
        {
          "output_type": "stream",
          "name": "stdout",
          "text": [
            "\r  6%|▌         | 6/100 [00:35<08:54,  5.68s/trial, best loss: 4.041272358999948]"
          ]
        },
        {
          "output_type": "stream",
          "name": "stderr",
          "text": [
            "/usr/local/lib/python3.11/dist-packages/xgboost/core.py:158: UserWarning: [15:22:40] WARNING: /workspace/src/learner.cc:740: \n",
            "Parameters: { \"lambda_reg\" } are not used.\n",
            "\n",
            "  warnings.warn(smsg, UserWarning)\n",
            "\n"
          ]
        },
        {
          "output_type": "stream",
          "name": "stdout",
          "text": [
            "\r  7%|▋         | 7/100 [00:43<10:01,  6.47s/trial, best loss: 4.041272358999948]"
          ]
        },
        {
          "output_type": "stream",
          "name": "stderr",
          "text": [
            "/usr/local/lib/python3.11/dist-packages/xgboost/core.py:158: UserWarning: [15:22:49] WARNING: /workspace/src/learner.cc:740: \n",
            "Parameters: { \"lambda_reg\" } are not used.\n",
            "\n",
            "  warnings.warn(smsg, UserWarning)\n",
            "\n"
          ]
        },
        {
          "output_type": "stream",
          "name": "stdout",
          "text": [
            "\r  8%|▊         | 8/100 [00:49<09:16,  6.05s/trial, best loss: 4.041272358999948]"
          ]
        },
        {
          "output_type": "stream",
          "name": "stderr",
          "text": [
            "/usr/local/lib/python3.11/dist-packages/xgboost/core.py:158: UserWarning: [15:22:54] WARNING: /workspace/src/learner.cc:740: \n",
            "Parameters: { \"lambda_reg\" } are not used.\n",
            "\n",
            "  warnings.warn(smsg, UserWarning)\n",
            "\n"
          ]
        },
        {
          "output_type": "stream",
          "name": "stdout",
          "text": [
            "\r  9%|▉         | 9/100 [00:50<06:58,  4.60s/trial, best loss: 4.03828275614337] "
          ]
        },
        {
          "output_type": "stream",
          "name": "stderr",
          "text": [
            "/usr/local/lib/python3.11/dist-packages/xgboost/core.py:158: UserWarning: [15:22:55] WARNING: /workspace/src/learner.cc:740: \n",
            "Parameters: { \"lambda_reg\" } are not used.\n",
            "\n",
            "  warnings.warn(smsg, UserWarning)\n",
            "\n"
          ]
        },
        {
          "output_type": "stream",
          "name": "stdout",
          "text": [
            "\r 10%|█         | 10/100 [00:55<06:58,  4.65s/trial, best loss: 4.03828275614337]"
          ]
        },
        {
          "output_type": "stream",
          "name": "stderr",
          "text": [
            "/usr/local/lib/python3.11/dist-packages/xgboost/core.py:158: UserWarning: [15:23:00] WARNING: /workspace/src/learner.cc:740: \n",
            "Parameters: { \"lambda_reg\" } are not used.\n",
            "\n",
            "  warnings.warn(smsg, UserWarning)\n",
            "\n"
          ]
        },
        {
          "output_type": "stream",
          "name": "stdout",
          "text": [
            "\r 11%|█         | 11/100 [01:06<09:41,  6.54s/trial, best loss: 4.03828275614337]"
          ]
        },
        {
          "output_type": "stream",
          "name": "stderr",
          "text": [
            "/usr/local/lib/python3.11/dist-packages/xgboost/core.py:158: UserWarning: [15:23:11] WARNING: /workspace/src/learner.cc:740: \n",
            "Parameters: { \"lambda_reg\" } are not used.\n",
            "\n",
            "  warnings.warn(smsg, UserWarning)\n",
            "\n"
          ]
        },
        {
          "output_type": "stream",
          "name": "stdout",
          "text": [
            "\r 12%|█▏        | 12/100 [01:10<08:39,  5.90s/trial, best loss: 4.03828275614337]"
          ]
        },
        {
          "output_type": "stream",
          "name": "stderr",
          "text": [
            "/usr/local/lib/python3.11/dist-packages/xgboost/core.py:158: UserWarning: [15:23:15] WARNING: /workspace/src/learner.cc:740: \n",
            "Parameters: { \"lambda_reg\" } are not used.\n",
            "\n",
            "  warnings.warn(smsg, UserWarning)\n",
            "\n"
          ]
        },
        {
          "output_type": "stream",
          "name": "stdout",
          "text": [
            "\r 13%|█▎        | 13/100 [01:12<06:48,  4.70s/trial, best loss: 4.03828275614337]"
          ]
        },
        {
          "output_type": "stream",
          "name": "stderr",
          "text": [
            "/usr/local/lib/python3.11/dist-packages/xgboost/core.py:158: UserWarning: [15:23:17] WARNING: /workspace/src/learner.cc:740: \n",
            "Parameters: { \"lambda_reg\" } are not used.\n",
            "\n",
            "  warnings.warn(smsg, UserWarning)\n",
            "\n"
          ]
        },
        {
          "output_type": "stream",
          "name": "stdout",
          "text": [
            "\r 14%|█▍        | 14/100 [01:22<08:52,  6.19s/trial, best loss: 4.03828275614337]"
          ]
        },
        {
          "output_type": "stream",
          "name": "stderr",
          "text": [
            "/usr/local/lib/python3.11/dist-packages/xgboost/core.py:158: UserWarning: [15:23:27] WARNING: /workspace/src/learner.cc:740: \n",
            "Parameters: { \"lambda_reg\" } are not used.\n",
            "\n",
            "  warnings.warn(smsg, UserWarning)\n",
            "\n"
          ]
        },
        {
          "output_type": "stream",
          "name": "stdout",
          "text": [
            "\r 15%|█▌        | 15/100 [01:27<08:24,  5.94s/trial, best loss: 4.03828275614337]"
          ]
        },
        {
          "output_type": "stream",
          "name": "stderr",
          "text": [
            "/usr/local/lib/python3.11/dist-packages/xgboost/core.py:158: UserWarning: [15:23:32] WARNING: /workspace/src/learner.cc:740: \n",
            "Parameters: { \"lambda_reg\" } are not used.\n",
            "\n",
            "  warnings.warn(smsg, UserWarning)\n",
            "\n"
          ]
        },
        {
          "output_type": "stream",
          "name": "stdout",
          "text": [
            "\r 16%|█▌        | 16/100 [01:30<07:10,  5.13s/trial, best loss: 4.03828275614337]"
          ]
        },
        {
          "output_type": "stream",
          "name": "stderr",
          "text": [
            "/usr/local/lib/python3.11/dist-packages/xgboost/core.py:158: UserWarning: [15:23:36] WARNING: /workspace/src/learner.cc:740: \n",
            "Parameters: { \"lambda_reg\" } are not used.\n",
            "\n",
            "  warnings.warn(smsg, UserWarning)\n",
            "\n"
          ]
        },
        {
          "output_type": "stream",
          "name": "stdout",
          "text": [
            "\r 17%|█▋        | 17/100 [01:34<06:27,  4.66s/trial, best loss: 4.03828275614337]"
          ]
        },
        {
          "output_type": "stream",
          "name": "stderr",
          "text": [
            "/usr/local/lib/python3.11/dist-packages/xgboost/core.py:158: UserWarning: [15:23:39] WARNING: /workspace/src/learner.cc:740: \n",
            "Parameters: { \"lambda_reg\" } are not used.\n",
            "\n",
            "  warnings.warn(smsg, UserWarning)\n",
            "\n"
          ]
        },
        {
          "output_type": "stream",
          "name": "stdout",
          "text": [
            "\r 18%|█▊        | 18/100 [01:47<09:50,  7.20s/trial, best loss: 4.03828275614337]"
          ]
        },
        {
          "output_type": "stream",
          "name": "stderr",
          "text": [
            "/usr/local/lib/python3.11/dist-packages/xgboost/core.py:158: UserWarning: [15:23:52] WARNING: /workspace/src/learner.cc:740: \n",
            "Parameters: { \"lambda_reg\" } are not used.\n",
            "\n",
            "  warnings.warn(smsg, UserWarning)\n",
            "\n"
          ]
        },
        {
          "output_type": "stream",
          "name": "stdout",
          "text": [
            "\r 19%|█▉        | 19/100 [01:49<07:49,  5.80s/trial, best loss: 4.03828275614337]"
          ]
        },
        {
          "output_type": "stream",
          "name": "stderr",
          "text": [
            "/usr/local/lib/python3.11/dist-packages/xgboost/core.py:158: UserWarning: [15:23:55] WARNING: /workspace/src/learner.cc:740: \n",
            "Parameters: { \"lambda_reg\" } are not used.\n",
            "\n",
            "  warnings.warn(smsg, UserWarning)\n",
            "\n"
          ]
        },
        {
          "output_type": "stream",
          "name": "stdout",
          "text": [
            "\r 20%|██        | 20/100 [02:01<09:52,  7.41s/trial, best loss: 4.03828275614337]"
          ]
        },
        {
          "output_type": "stream",
          "name": "stderr",
          "text": [
            "/usr/local/lib/python3.11/dist-packages/xgboost/core.py:158: UserWarning: [15:24:06] WARNING: /workspace/src/learner.cc:740: \n",
            "Parameters: { \"lambda_reg\" } are not used.\n",
            "\n",
            "  warnings.warn(smsg, UserWarning)\n",
            "\n"
          ]
        },
        {
          "output_type": "stream",
          "name": "stdout",
          "text": [
            "\r 21%|██        | 21/100 [02:03<07:42,  5.86s/trial, best loss: 4.03828275614337]"
          ]
        },
        {
          "output_type": "stream",
          "name": "stderr",
          "text": [
            "/usr/local/lib/python3.11/dist-packages/xgboost/core.py:158: UserWarning: [15:24:08] WARNING: /workspace/src/learner.cc:740: \n",
            "Parameters: { \"lambda_reg\" } are not used.\n",
            "\n",
            "  warnings.warn(smsg, UserWarning)\n",
            "\n"
          ]
        },
        {
          "output_type": "stream",
          "name": "stdout",
          "text": [
            "\r 22%|██▏       | 22/100 [02:06<06:38,  5.11s/trial, best loss: 4.03828275614337]"
          ]
        },
        {
          "output_type": "stream",
          "name": "stderr",
          "text": [
            "/usr/local/lib/python3.11/dist-packages/xgboost/core.py:158: UserWarning: [15:24:11] WARNING: /workspace/src/learner.cc:740: \n",
            "Parameters: { \"lambda_reg\" } are not used.\n",
            "\n",
            "  warnings.warn(smsg, UserWarning)\n",
            "\n"
          ]
        },
        {
          "output_type": "stream",
          "name": "stdout",
          "text": [
            "\r 23%|██▎       | 23/100 [02:08<05:22,  4.19s/trial, best loss: 4.03828275614337]"
          ]
        },
        {
          "output_type": "stream",
          "name": "stderr",
          "text": [
            "/usr/local/lib/python3.11/dist-packages/xgboost/core.py:158: UserWarning: [15:24:13] WARNING: /workspace/src/learner.cc:740: \n",
            "Parameters: { \"lambda_reg\" } are not used.\n",
            "\n",
            "  warnings.warn(smsg, UserWarning)\n",
            "\n"
          ]
        },
        {
          "output_type": "stream",
          "name": "stdout",
          "text": [
            "\r 24%|██▍       | 24/100 [02:10<04:26,  3.51s/trial, best loss: 4.03828275614337]"
          ]
        },
        {
          "output_type": "stream",
          "name": "stderr",
          "text": [
            "/usr/local/lib/python3.11/dist-packages/xgboost/core.py:158: UserWarning: [15:24:15] WARNING: /workspace/src/learner.cc:740: \n",
            "Parameters: { \"lambda_reg\" } are not used.\n",
            "\n",
            "  warnings.warn(smsg, UserWarning)\n",
            "\n"
          ]
        },
        {
          "output_type": "stream",
          "name": "stdout",
          "text": [
            "\r 25%|██▌       | 25/100 [02:12<03:49,  3.06s/trial, best loss: 4.03828275614337]"
          ]
        },
        {
          "output_type": "stream",
          "name": "stderr",
          "text": [
            "/usr/local/lib/python3.11/dist-packages/xgboost/core.py:158: UserWarning: [15:24:17] WARNING: /workspace/src/learner.cc:740: \n",
            "Parameters: { \"lambda_reg\" } are not used.\n",
            "\n",
            "  warnings.warn(smsg, UserWarning)\n",
            "\n"
          ]
        },
        {
          "output_type": "stream",
          "name": "stdout",
          "text": [
            "\r 26%|██▌       | 26/100 [02:14<03:21,  2.73s/trial, best loss: 4.03828275614337]"
          ]
        },
        {
          "output_type": "stream",
          "name": "stderr",
          "text": [
            "/usr/local/lib/python3.11/dist-packages/xgboost/core.py:158: UserWarning: [15:24:19] WARNING: /workspace/src/learner.cc:740: \n",
            "Parameters: { \"lambda_reg\" } are not used.\n",
            "\n",
            "  warnings.warn(smsg, UserWarning)\n",
            "\n"
          ]
        },
        {
          "output_type": "stream",
          "name": "stdout",
          "text": [
            "\r 27%|██▋       | 27/100 [02:19<04:02,  3.32s/trial, best loss: 4.03828275614337]"
          ]
        },
        {
          "output_type": "stream",
          "name": "stderr",
          "text": [
            "/usr/local/lib/python3.11/dist-packages/xgboost/core.py:158: UserWarning: [15:24:24] WARNING: /workspace/src/learner.cc:740: \n",
            "Parameters: { \"lambda_reg\" } are not used.\n",
            "\n",
            "  warnings.warn(smsg, UserWarning)\n",
            "\n"
          ]
        },
        {
          "output_type": "stream",
          "name": "stdout",
          "text": [
            "\r 28%|██▊       | 28/100 [02:20<03:19,  2.78s/trial, best loss: 4.03774281578256]"
          ]
        },
        {
          "output_type": "stream",
          "name": "stderr",
          "text": [
            "/usr/local/lib/python3.11/dist-packages/xgboost/core.py:158: UserWarning: [15:24:25] WARNING: /workspace/src/learner.cc:740: \n",
            "Parameters: { \"lambda_reg\" } are not used.\n",
            "\n",
            "  warnings.warn(smsg, UserWarning)\n",
            "\n"
          ]
        },
        {
          "output_type": "stream",
          "name": "stdout",
          "text": [
            "\r 29%|██▉       | 29/100 [02:22<02:50,  2.40s/trial, best loss: 4.03774281578256]"
          ]
        },
        {
          "output_type": "stream",
          "name": "stderr",
          "text": [
            "/usr/local/lib/python3.11/dist-packages/xgboost/core.py:158: UserWarning: [15:24:27] WARNING: /workspace/src/learner.cc:740: \n",
            "Parameters: { \"lambda_reg\" } are not used.\n",
            "\n",
            "  warnings.warn(smsg, UserWarning)\n",
            "\n"
          ]
        },
        {
          "output_type": "stream",
          "name": "stdout",
          "text": [
            "\r 30%|███       | 30/100 [02:24<02:31,  2.16s/trial, best loss: 4.03774281578256]"
          ]
        },
        {
          "output_type": "stream",
          "name": "stderr",
          "text": [
            "/usr/local/lib/python3.11/dist-packages/xgboost/core.py:158: UserWarning: [15:24:29] WARNING: /workspace/src/learner.cc:740: \n",
            "Parameters: { \"lambda_reg\" } are not used.\n",
            "\n",
            "  warnings.warn(smsg, UserWarning)\n",
            "\n"
          ]
        },
        {
          "output_type": "stream",
          "name": "stdout",
          "text": [
            "\r 31%|███       | 31/100 [02:26<02:26,  2.13s/trial, best loss: 4.03774281578256]"
          ]
        },
        {
          "output_type": "stream",
          "name": "stderr",
          "text": [
            "/usr/local/lib/python3.11/dist-packages/xgboost/core.py:158: UserWarning: [15:24:31] WARNING: /workspace/src/learner.cc:740: \n",
            "Parameters: { \"lambda_reg\" } are not used.\n",
            "\n",
            "  warnings.warn(smsg, UserWarning)\n",
            "\n"
          ]
        },
        {
          "output_type": "stream",
          "name": "stdout",
          "text": [
            "\r 32%|███▏      | 32/100 [02:29<02:54,  2.57s/trial, best loss: 4.03774281578256]"
          ]
        },
        {
          "output_type": "stream",
          "name": "stderr",
          "text": [
            "/usr/local/lib/python3.11/dist-packages/xgboost/core.py:158: UserWarning: [15:24:34] WARNING: /workspace/src/learner.cc:740: \n",
            "Parameters: { \"lambda_reg\" } are not used.\n",
            "\n",
            "  warnings.warn(smsg, UserWarning)\n",
            "\n"
          ]
        },
        {
          "output_type": "stream",
          "name": "stdout",
          "text": [
            "\r 33%|███▎      | 33/100 [02:30<02:17,  2.05s/trial, best loss: 4.03774281578256]"
          ]
        },
        {
          "output_type": "stream",
          "name": "stderr",
          "text": [
            "/usr/local/lib/python3.11/dist-packages/xgboost/core.py:158: UserWarning: [15:24:35] WARNING: /workspace/src/learner.cc:740: \n",
            "Parameters: { \"lambda_reg\" } are not used.\n",
            "\n",
            "  warnings.warn(smsg, UserWarning)\n",
            "\n"
          ]
        },
        {
          "output_type": "stream",
          "name": "stdout",
          "text": [
            "\r 34%|███▍      | 34/100 [02:32<02:19,  2.11s/trial, best loss: 4.03774281578256]"
          ]
        },
        {
          "output_type": "stream",
          "name": "stderr",
          "text": [
            "/usr/local/lib/python3.11/dist-packages/xgboost/core.py:158: UserWarning: [15:24:37] WARNING: /workspace/src/learner.cc:740: \n",
            "Parameters: { \"lambda_reg\" } are not used.\n",
            "\n",
            "  warnings.warn(smsg, UserWarning)\n",
            "\n"
          ]
        },
        {
          "output_type": "stream",
          "name": "stdout",
          "text": [
            "\r 35%|███▌      | 35/100 [02:33<01:57,  1.81s/trial, best loss: 4.03774281578256]"
          ]
        },
        {
          "output_type": "stream",
          "name": "stderr",
          "text": [
            "/usr/local/lib/python3.11/dist-packages/xgboost/core.py:158: UserWarning: [15:24:38] WARNING: /workspace/src/learner.cc:740: \n",
            "Parameters: { \"lambda_reg\" } are not used.\n",
            "\n",
            "  warnings.warn(smsg, UserWarning)\n",
            "\n"
          ]
        },
        {
          "output_type": "stream",
          "name": "stdout",
          "text": [
            "\r 36%|███▌      | 36/100 [02:35<02:00,  1.89s/trial, best loss: 4.03774281578256]"
          ]
        },
        {
          "output_type": "stream",
          "name": "stderr",
          "text": [
            "/usr/local/lib/python3.11/dist-packages/xgboost/core.py:158: UserWarning: [15:24:40] WARNING: /workspace/src/learner.cc:740: \n",
            "Parameters: { \"lambda_reg\" } are not used.\n",
            "\n",
            "  warnings.warn(smsg, UserWarning)\n",
            "\n"
          ]
        },
        {
          "output_type": "stream",
          "name": "stdout",
          "text": [
            "\r 37%|███▋      | 37/100 [02:40<02:58,  2.83s/trial, best loss: 4.03774281578256]"
          ]
        },
        {
          "output_type": "stream",
          "name": "stderr",
          "text": [
            "/usr/local/lib/python3.11/dist-packages/xgboost/core.py:158: UserWarning: [15:24:46] WARNING: /workspace/src/learner.cc:740: \n",
            "Parameters: { \"lambda_reg\" } are not used.\n",
            "\n",
            "  warnings.warn(smsg, UserWarning)\n",
            "\n"
          ]
        },
        {
          "output_type": "stream",
          "name": "stdout",
          "text": [
            "\r 38%|███▊      | 38/100 [02:45<03:32,  3.42s/trial, best loss: 4.03774281578256]"
          ]
        },
        {
          "output_type": "stream",
          "name": "stderr",
          "text": [
            "/usr/local/lib/python3.11/dist-packages/xgboost/core.py:158: UserWarning: [15:24:50] WARNING: /workspace/src/learner.cc:740: \n",
            "Parameters: { \"lambda_reg\" } are not used.\n",
            "\n",
            "  warnings.warn(smsg, UserWarning)\n",
            "\n"
          ]
        },
        {
          "output_type": "stream",
          "name": "stdout",
          "text": [
            "\r 39%|███▉      | 39/100 [02:47<03:00,  2.96s/trial, best loss: 4.03774281578256]"
          ]
        },
        {
          "output_type": "stream",
          "name": "stderr",
          "text": [
            "/usr/local/lib/python3.11/dist-packages/xgboost/core.py:158: UserWarning: [15:24:52] WARNING: /workspace/src/learner.cc:740: \n",
            "Parameters: { \"lambda_reg\" } are not used.\n",
            "\n",
            "  warnings.warn(smsg, UserWarning)\n",
            "\n"
          ]
        },
        {
          "output_type": "stream",
          "name": "stdout",
          "text": [
            "\r 40%|████      | 40/100 [02:52<03:30,  3.50s/trial, best loss: 4.03774281578256]"
          ]
        },
        {
          "output_type": "stream",
          "name": "stderr",
          "text": [
            "/usr/local/lib/python3.11/dist-packages/xgboost/core.py:158: UserWarning: [15:24:57] WARNING: /workspace/src/learner.cc:740: \n",
            "Parameters: { \"lambda_reg\" } are not used.\n",
            "\n",
            "  warnings.warn(smsg, UserWarning)\n",
            "\n"
          ]
        },
        {
          "output_type": "stream",
          "name": "stdout",
          "text": [
            "\r 41%|████      | 41/100 [02:53<02:44,  2.79s/trial, best loss: 4.03774281578256]"
          ]
        },
        {
          "output_type": "stream",
          "name": "stderr",
          "text": [
            "/usr/local/lib/python3.11/dist-packages/xgboost/core.py:158: UserWarning: [15:24:58] WARNING: /workspace/src/learner.cc:740: \n",
            "Parameters: { \"lambda_reg\" } are not used.\n",
            "\n",
            "  warnings.warn(smsg, UserWarning)\n",
            "\n"
          ]
        },
        {
          "output_type": "stream",
          "name": "stdout",
          "text": [
            "\r 42%|████▏     | 42/100 [02:56<02:53,  3.00s/trial, best loss: 4.03774281578256]"
          ]
        },
        {
          "output_type": "stream",
          "name": "stderr",
          "text": [
            "/usr/local/lib/python3.11/dist-packages/xgboost/core.py:158: UserWarning: [15:25:02] WARNING: /workspace/src/learner.cc:740: \n",
            "Parameters: { \"lambda_reg\" } are not used.\n",
            "\n",
            "  warnings.warn(smsg, UserWarning)\n",
            "\n"
          ]
        },
        {
          "output_type": "stream",
          "name": "stdout",
          "text": [
            "\r 43%|████▎     | 43/100 [02:59<02:35,  2.74s/trial, best loss: 4.03774281578256]"
          ]
        },
        {
          "output_type": "stream",
          "name": "stderr",
          "text": [
            "/usr/local/lib/python3.11/dist-packages/xgboost/core.py:158: UserWarning: [15:25:04] WARNING: /workspace/src/learner.cc:740: \n",
            "Parameters: { \"lambda_reg\" } are not used.\n",
            "\n",
            "  warnings.warn(smsg, UserWarning)\n",
            "\n"
          ]
        },
        {
          "output_type": "stream",
          "name": "stdout",
          "text": [
            "\r 44%|████▍     | 44/100 [03:00<02:12,  2.36s/trial, best loss: 4.03774281578256]"
          ]
        },
        {
          "output_type": "stream",
          "name": "stderr",
          "text": [
            "/usr/local/lib/python3.11/dist-packages/xgboost/core.py:158: UserWarning: [15:25:05] WARNING: /workspace/src/learner.cc:740: \n",
            "Parameters: { \"lambda_reg\" } are not used.\n",
            "\n",
            "  warnings.warn(smsg, UserWarning)\n",
            "\n"
          ]
        },
        {
          "output_type": "stream",
          "name": "stdout",
          "text": [
            "\r 45%|████▌     | 45/100 [03:05<02:59,  3.27s/trial, best loss: 4.03774281578256]"
          ]
        },
        {
          "output_type": "stream",
          "name": "stderr",
          "text": [
            "/usr/local/lib/python3.11/dist-packages/xgboost/core.py:158: UserWarning: [15:25:11] WARNING: /workspace/src/learner.cc:740: \n",
            "Parameters: { \"lambda_reg\" } are not used.\n",
            "\n",
            "  warnings.warn(smsg, UserWarning)\n",
            "\n"
          ]
        },
        {
          "output_type": "stream",
          "name": "stdout",
          "text": [
            "\r 46%|████▌     | 46/100 [03:11<03:30,  3.90s/trial, best loss: 4.03774281578256]"
          ]
        },
        {
          "output_type": "stream",
          "name": "stderr",
          "text": [
            "/usr/local/lib/python3.11/dist-packages/xgboost/core.py:158: UserWarning: [15:25:16] WARNING: /workspace/src/learner.cc:740: \n",
            "Parameters: { \"lambda_reg\" } are not used.\n",
            "\n",
            "  warnings.warn(smsg, UserWarning)\n",
            "\n"
          ]
        },
        {
          "output_type": "stream",
          "name": "stdout",
          "text": [
            "\r 47%|████▋     | 47/100 [03:14<03:18,  3.74s/trial, best loss: 4.03774281578256]"
          ]
        },
        {
          "output_type": "stream",
          "name": "stderr",
          "text": [
            "/usr/local/lib/python3.11/dist-packages/xgboost/core.py:158: UserWarning: [15:25:19] WARNING: /workspace/src/learner.cc:740: \n",
            "Parameters: { \"lambda_reg\" } are not used.\n",
            "\n",
            "  warnings.warn(smsg, UserWarning)\n",
            "\n"
          ]
        },
        {
          "output_type": "stream",
          "name": "stdout",
          "text": [
            "\r 48%|████▊     | 48/100 [03:15<02:34,  2.97s/trial, best loss: 4.03774281578256]"
          ]
        },
        {
          "output_type": "stream",
          "name": "stderr",
          "text": [
            "/usr/local/lib/python3.11/dist-packages/xgboost/core.py:158: UserWarning: [15:25:20] WARNING: /workspace/src/learner.cc:740: \n",
            "Parameters: { \"lambda_reg\" } are not used.\n",
            "\n",
            "  warnings.warn(smsg, UserWarning)\n",
            "\n"
          ]
        },
        {
          "output_type": "stream",
          "name": "stdout",
          "text": [
            "\r 49%|████▉     | 49/100 [03:17<02:03,  2.42s/trial, best loss: 4.03774281578256]"
          ]
        },
        {
          "output_type": "stream",
          "name": "stderr",
          "text": [
            "/usr/local/lib/python3.11/dist-packages/xgboost/core.py:158: UserWarning: [15:25:22] WARNING: /workspace/src/learner.cc:740: \n",
            "Parameters: { \"lambda_reg\" } are not used.\n",
            "\n",
            "  warnings.warn(smsg, UserWarning)\n",
            "\n"
          ]
        },
        {
          "output_type": "stream",
          "name": "stdout",
          "text": [
            "\r 50%|█████     | 50/100 [03:21<02:28,  2.98s/trial, best loss: 4.03774281578256]"
          ]
        },
        {
          "output_type": "stream",
          "name": "stderr",
          "text": [
            "/usr/local/lib/python3.11/dist-packages/xgboost/core.py:158: UserWarning: [15:25:26] WARNING: /workspace/src/learner.cc:740: \n",
            "Parameters: { \"lambda_reg\" } are not used.\n",
            "\n",
            "  warnings.warn(smsg, UserWarning)\n",
            "\n"
          ]
        },
        {
          "output_type": "stream",
          "name": "stdout",
          "text": [
            "\r 51%|█████     | 51/100 [03:22<01:55,  2.36s/trial, best loss: 4.03774281578256]"
          ]
        },
        {
          "output_type": "stream",
          "name": "stderr",
          "text": [
            "/usr/local/lib/python3.11/dist-packages/xgboost/core.py:158: UserWarning: [15:25:27] WARNING: /workspace/src/learner.cc:740: \n",
            "Parameters: { \"lambda_reg\" } are not used.\n",
            "\n",
            "  warnings.warn(smsg, UserWarning)\n",
            "\n"
          ]
        },
        {
          "output_type": "stream",
          "name": "stdout",
          "text": [
            "\r 52%|█████▏    | 52/100 [03:27<02:41,  3.36s/trial, best loss: 4.03774281578256]"
          ]
        },
        {
          "output_type": "stream",
          "name": "stderr",
          "text": [
            "/usr/local/lib/python3.11/dist-packages/xgboost/core.py:158: UserWarning: [15:25:33] WARNING: /workspace/src/learner.cc:740: \n",
            "Parameters: { \"lambda_reg\" } are not used.\n",
            "\n",
            "  warnings.warn(smsg, UserWarning)\n",
            "\n"
          ]
        },
        {
          "output_type": "stream",
          "name": "stdout",
          "text": [
            "\r 53%|█████▎    | 53/100 [03:29<02:17,  2.92s/trial, best loss: 4.03774281578256]"
          ]
        },
        {
          "output_type": "stream",
          "name": "stderr",
          "text": [
            "/usr/local/lib/python3.11/dist-packages/xgboost/core.py:158: UserWarning: [15:25:34] WARNING: /workspace/src/learner.cc:740: \n",
            "Parameters: { \"lambda_reg\" } are not used.\n",
            "\n",
            "  warnings.warn(smsg, UserWarning)\n",
            "\n"
          ]
        },
        {
          "output_type": "stream",
          "name": "stdout",
          "text": [
            "\r 54%|█████▍    | 54/100 [03:34<02:39,  3.48s/trial, best loss: 4.03774281578256]"
          ]
        },
        {
          "output_type": "stream",
          "name": "stderr",
          "text": [
            "/usr/local/lib/python3.11/dist-packages/xgboost/core.py:158: UserWarning: [15:25:39] WARNING: /workspace/src/learner.cc:740: \n",
            "Parameters: { \"lambda_reg\" } are not used.\n",
            "\n",
            "  warnings.warn(smsg, UserWarning)\n",
            "\n"
          ]
        },
        {
          "output_type": "stream",
          "name": "stdout",
          "text": [
            "\r 55%|█████▌    | 55/100 [03:38<02:38,  3.53s/trial, best loss: 4.03774281578256]"
          ]
        },
        {
          "output_type": "stream",
          "name": "stderr",
          "text": [
            "/usr/local/lib/python3.11/dist-packages/xgboost/core.py:158: UserWarning: [15:25:43] WARNING: /workspace/src/learner.cc:740: \n",
            "Parameters: { \"lambda_reg\" } are not used.\n",
            "\n",
            "  warnings.warn(smsg, UserWarning)\n",
            "\n"
          ]
        },
        {
          "output_type": "stream",
          "name": "stdout",
          "text": [
            "\r 56%|█████▌    | 56/100 [03:40<02:23,  3.26s/trial, best loss: 4.03774281578256]"
          ]
        },
        {
          "output_type": "stream",
          "name": "stderr",
          "text": [
            "/usr/local/lib/python3.11/dist-packages/xgboost/core.py:158: UserWarning: [15:25:45] WARNING: /workspace/src/learner.cc:740: \n",
            "Parameters: { \"lambda_reg\" } are not used.\n",
            "\n",
            "  warnings.warn(smsg, UserWarning)\n",
            "\n"
          ]
        },
        {
          "output_type": "stream",
          "name": "stdout",
          "text": [
            "\r 57%|█████▋    | 57/100 [03:43<02:10,  3.04s/trial, best loss: 4.03774281578256]"
          ]
        },
        {
          "output_type": "stream",
          "name": "stderr",
          "text": [
            "/usr/local/lib/python3.11/dist-packages/xgboost/core.py:158: UserWarning: [15:25:48] WARNING: /workspace/src/learner.cc:740: \n",
            "Parameters: { \"lambda_reg\" } are not used.\n",
            "\n",
            "  warnings.warn(smsg, UserWarning)\n",
            "\n"
          ]
        },
        {
          "output_type": "stream",
          "name": "stdout",
          "text": [
            "\r 58%|█████▊    | 58/100 [03:47<02:22,  3.39s/trial, best loss: 4.03774281578256]"
          ]
        },
        {
          "output_type": "stream",
          "name": "stderr",
          "text": [
            "/usr/local/lib/python3.11/dist-packages/xgboost/core.py:158: UserWarning: [15:25:52] WARNING: /workspace/src/learner.cc:740: \n",
            "Parameters: { \"lambda_reg\" } are not used.\n",
            "\n",
            "  warnings.warn(smsg, UserWarning)\n",
            "\n"
          ]
        },
        {
          "output_type": "stream",
          "name": "stdout",
          "text": [
            "\r 59%|█████▉    | 59/100 [03:52<02:33,  3.74s/trial, best loss: 4.03774281578256]"
          ]
        },
        {
          "output_type": "stream",
          "name": "stderr",
          "text": [
            "/usr/local/lib/python3.11/dist-packages/xgboost/core.py:158: UserWarning: [15:25:57] WARNING: /workspace/src/learner.cc:740: \n",
            "Parameters: { \"lambda_reg\" } are not used.\n",
            "\n",
            "  warnings.warn(smsg, UserWarning)\n",
            "\n"
          ]
        },
        {
          "output_type": "stream",
          "name": "stdout",
          "text": [
            "\r 60%|██████    | 60/100 [03:56<02:35,  3.89s/trial, best loss: 4.03774281578256]"
          ]
        },
        {
          "output_type": "stream",
          "name": "stderr",
          "text": [
            "/usr/local/lib/python3.11/dist-packages/xgboost/core.py:158: UserWarning: [15:26:01] WARNING: /workspace/src/learner.cc:740: \n",
            "Parameters: { \"lambda_reg\" } are not used.\n",
            "\n",
            "  warnings.warn(smsg, UserWarning)\n",
            "\n"
          ]
        },
        {
          "output_type": "stream",
          "name": "stdout",
          "text": [
            "\r 61%|██████    | 61/100 [04:00<02:36,  4.00s/trial, best loss: 4.03774281578256]"
          ]
        },
        {
          "output_type": "stream",
          "name": "stderr",
          "text": [
            "/usr/local/lib/python3.11/dist-packages/xgboost/core.py:158: UserWarning: [15:26:05] WARNING: /workspace/src/learner.cc:740: \n",
            "Parameters: { \"lambda_reg\" } are not used.\n",
            "\n",
            "  warnings.warn(smsg, UserWarning)\n",
            "\n"
          ]
        },
        {
          "output_type": "stream",
          "name": "stdout",
          "text": [
            "\r 62%|██████▏   | 62/100 [04:01<01:53,  2.99s/trial, best loss: 4.03774281578256]"
          ]
        },
        {
          "output_type": "stream",
          "name": "stderr",
          "text": [
            "/usr/local/lib/python3.11/dist-packages/xgboost/core.py:158: UserWarning: [15:26:06] WARNING: /workspace/src/learner.cc:740: \n",
            "Parameters: { \"lambda_reg\" } are not used.\n",
            "\n",
            "  warnings.warn(smsg, UserWarning)\n",
            "\n"
          ]
        },
        {
          "output_type": "stream",
          "name": "stdout",
          "text": [
            "\r 63%|██████▎   | 63/100 [04:03<01:46,  2.89s/trial, best loss: 4.03774281578256]"
          ]
        },
        {
          "output_type": "stream",
          "name": "stderr",
          "text": [
            "/usr/local/lib/python3.11/dist-packages/xgboost/core.py:158: UserWarning: [15:26:09] WARNING: /workspace/src/learner.cc:740: \n",
            "Parameters: { \"lambda_reg\" } are not used.\n",
            "\n",
            "  warnings.warn(smsg, UserWarning)\n",
            "\n"
          ]
        },
        {
          "output_type": "stream",
          "name": "stdout",
          "text": [
            "\r 64%|██████▍   | 64/100 [04:10<02:18,  3.84s/trial, best loss: 4.03774281578256]"
          ]
        },
        {
          "output_type": "stream",
          "name": "stderr",
          "text": [
            "/usr/local/lib/python3.11/dist-packages/xgboost/core.py:158: UserWarning: [15:26:15] WARNING: /workspace/src/learner.cc:740: \n",
            "Parameters: { \"lambda_reg\" } are not used.\n",
            "\n",
            "  warnings.warn(smsg, UserWarning)\n",
            "\n"
          ]
        },
        {
          "output_type": "stream",
          "name": "stdout",
          "text": [
            "\r 65%|██████▌   | 65/100 [04:13<02:05,  3.59s/trial, best loss: 4.03774281578256]"
          ]
        },
        {
          "output_type": "stream",
          "name": "stderr",
          "text": [
            "/usr/local/lib/python3.11/dist-packages/xgboost/core.py:158: UserWarning: [15:26:18] WARNING: /workspace/src/learner.cc:740: \n",
            "Parameters: { \"lambda_reg\" } are not used.\n",
            "\n",
            "  warnings.warn(smsg, UserWarning)\n",
            "\n"
          ]
        },
        {
          "output_type": "stream",
          "name": "stdout",
          "text": [
            "\r 66%|██████▌   | 66/100 [04:14<01:44,  3.08s/trial, best loss: 4.03774281578256]"
          ]
        },
        {
          "output_type": "stream",
          "name": "stderr",
          "text": [
            "/usr/local/lib/python3.11/dist-packages/xgboost/core.py:158: UserWarning: [15:26:19] WARNING: /workspace/src/learner.cc:740: \n",
            "Parameters: { \"lambda_reg\" } are not used.\n",
            "\n",
            "  warnings.warn(smsg, UserWarning)\n",
            "\n"
          ]
        },
        {
          "output_type": "stream",
          "name": "stdout",
          "text": [
            "\r 67%|██████▋   | 67/100 [04:17<01:38,  3.00s/trial, best loss: 4.03774281578256]"
          ]
        },
        {
          "output_type": "stream",
          "name": "stderr",
          "text": [
            "/usr/local/lib/python3.11/dist-packages/xgboost/core.py:158: UserWarning: [15:26:22] WARNING: /workspace/src/learner.cc:740: \n",
            "Parameters: { \"lambda_reg\" } are not used.\n",
            "\n",
            "  warnings.warn(smsg, UserWarning)\n",
            "\n"
          ]
        },
        {
          "output_type": "stream",
          "name": "stdout",
          "text": [
            "\r 68%|██████▊   | 68/100 [04:20<01:32,  2.88s/trial, best loss: 4.03774281578256]"
          ]
        },
        {
          "output_type": "stream",
          "name": "stderr",
          "text": [
            "/usr/local/lib/python3.11/dist-packages/xgboost/core.py:158: UserWarning: [15:26:25] WARNING: /workspace/src/learner.cc:740: \n",
            "Parameters: { \"lambda_reg\" } are not used.\n",
            "\n",
            "  warnings.warn(smsg, UserWarning)\n",
            "\n"
          ]
        },
        {
          "output_type": "stream",
          "name": "stdout",
          "text": [
            "\r 69%|██████▉   | 69/100 [04:22<01:21,  2.63s/trial, best loss: 4.03774281578256]"
          ]
        },
        {
          "output_type": "stream",
          "name": "stderr",
          "text": [
            "/usr/local/lib/python3.11/dist-packages/xgboost/core.py:158: UserWarning: [15:26:27] WARNING: /workspace/src/learner.cc:740: \n",
            "Parameters: { \"lambda_reg\" } are not used.\n",
            "\n",
            "  warnings.warn(smsg, UserWarning)\n",
            "\n"
          ]
        },
        {
          "output_type": "stream",
          "name": "stdout",
          "text": [
            "\r 70%|███████   | 70/100 [04:25<01:21,  2.72s/trial, best loss: 4.03774281578256]"
          ]
        },
        {
          "output_type": "stream",
          "name": "stderr",
          "text": [
            "/usr/local/lib/python3.11/dist-packages/xgboost/core.py:158: UserWarning: [15:26:30] WARNING: /workspace/src/learner.cc:740: \n",
            "Parameters: { \"lambda_reg\" } are not used.\n",
            "\n",
            "  warnings.warn(smsg, UserWarning)\n",
            "\n"
          ]
        },
        {
          "output_type": "stream",
          "name": "stdout",
          "text": [
            "\r 71%|███████   | 71/100 [04:27<01:10,  2.43s/trial, best loss: 4.03774281578256]"
          ]
        },
        {
          "output_type": "stream",
          "name": "stderr",
          "text": [
            "/usr/local/lib/python3.11/dist-packages/xgboost/core.py:158: UserWarning: [15:26:32] WARNING: /workspace/src/learner.cc:740: \n",
            "Parameters: { \"lambda_reg\" } are not used.\n",
            "\n",
            "  warnings.warn(smsg, UserWarning)\n",
            "\n"
          ]
        },
        {
          "output_type": "stream",
          "name": "stdout",
          "text": [
            "\r 72%|███████▏  | 72/100 [04:28<00:59,  2.13s/trial, best loss: 4.03774281578256]"
          ]
        },
        {
          "output_type": "stream",
          "name": "stderr",
          "text": [
            "/usr/local/lib/python3.11/dist-packages/xgboost/core.py:158: UserWarning: [15:26:33] WARNING: /workspace/src/learner.cc:740: \n",
            "Parameters: { \"lambda_reg\" } are not used.\n",
            "\n",
            "  warnings.warn(smsg, UserWarning)\n",
            "\n"
          ]
        },
        {
          "output_type": "stream",
          "name": "stdout",
          "text": [
            "\r 73%|███████▎  | 73/100 [04:31<01:06,  2.45s/trial, best loss: 4.03774281578256]"
          ]
        },
        {
          "output_type": "stream",
          "name": "stderr",
          "text": [
            "/usr/local/lib/python3.11/dist-packages/xgboost/core.py:158: UserWarning: [15:26:36] WARNING: /workspace/src/learner.cc:740: \n",
            "Parameters: { \"lambda_reg\" } are not used.\n",
            "\n",
            "  warnings.warn(smsg, UserWarning)\n",
            "\n"
          ]
        },
        {
          "output_type": "stream",
          "name": "stdout",
          "text": [
            "\r 74%|███████▍  | 74/100 [04:33<00:55,  2.15s/trial, best loss: 4.03774281578256]"
          ]
        },
        {
          "output_type": "stream",
          "name": "stderr",
          "text": [
            "/usr/local/lib/python3.11/dist-packages/xgboost/core.py:158: UserWarning: [15:26:38] WARNING: /workspace/src/learner.cc:740: \n",
            "Parameters: { \"lambda_reg\" } are not used.\n",
            "\n",
            "  warnings.warn(smsg, UserWarning)\n",
            "\n"
          ]
        },
        {
          "output_type": "stream",
          "name": "stdout",
          "text": [
            "\r 75%|███████▌  | 75/100 [04:35<00:56,  2.26s/trial, best loss: 4.03774281578256]"
          ]
        },
        {
          "output_type": "stream",
          "name": "stderr",
          "text": [
            "/usr/local/lib/python3.11/dist-packages/xgboost/core.py:158: UserWarning: [15:26:40] WARNING: /workspace/src/learner.cc:740: \n",
            "Parameters: { \"lambda_reg\" } are not used.\n",
            "\n",
            "  warnings.warn(smsg, UserWarning)\n",
            "\n"
          ]
        },
        {
          "output_type": "stream",
          "name": "stdout",
          "text": [
            "\r 76%|███████▌  | 76/100 [04:37<00:52,  2.20s/trial, best loss: 4.03774281578256]"
          ]
        },
        {
          "output_type": "stream",
          "name": "stderr",
          "text": [
            "/usr/local/lib/python3.11/dist-packages/xgboost/core.py:158: UserWarning: [15:26:42] WARNING: /workspace/src/learner.cc:740: \n",
            "Parameters: { \"lambda_reg\" } are not used.\n",
            "\n",
            "  warnings.warn(smsg, UserWarning)\n",
            "\n"
          ]
        },
        {
          "output_type": "stream",
          "name": "stdout",
          "text": [
            "\r 77%|███████▋  | 77/100 [04:38<00:41,  1.79s/trial, best loss: 4.03774281578256]"
          ]
        },
        {
          "output_type": "stream",
          "name": "stderr",
          "text": [
            "/usr/local/lib/python3.11/dist-packages/xgboost/core.py:158: UserWarning: [15:26:43] WARNING: /workspace/src/learner.cc:740: \n",
            "Parameters: { \"lambda_reg\" } are not used.\n",
            "\n",
            "  warnings.warn(smsg, UserWarning)\n",
            "\n"
          ]
        },
        {
          "output_type": "stream",
          "name": "stdout",
          "text": [
            "\r 78%|███████▊  | 78/100 [04:42<00:50,  2.30s/trial, best loss: 4.03774281578256]"
          ]
        },
        {
          "output_type": "stream",
          "name": "stderr",
          "text": [
            "/usr/local/lib/python3.11/dist-packages/xgboost/core.py:158: UserWarning: [15:26:47] WARNING: /workspace/src/learner.cc:740: \n",
            "Parameters: { \"lambda_reg\" } are not used.\n",
            "\n",
            "  warnings.warn(smsg, UserWarning)\n",
            "\n"
          ]
        },
        {
          "output_type": "stream",
          "name": "stdout",
          "text": [
            "\r 79%|███████▉  | 79/100 [04:45<00:55,  2.66s/trial, best loss: 4.03774281578256]"
          ]
        },
        {
          "output_type": "stream",
          "name": "stderr",
          "text": [
            "/usr/local/lib/python3.11/dist-packages/xgboost/core.py:158: UserWarning: [15:26:50] WARNING: /workspace/src/learner.cc:740: \n",
            "Parameters: { \"lambda_reg\" } are not used.\n",
            "\n",
            "  warnings.warn(smsg, UserWarning)\n",
            "\n"
          ]
        },
        {
          "output_type": "stream",
          "name": "stdout",
          "text": [
            "\r 80%|████████  | 80/100 [04:48<00:56,  2.85s/trial, best loss: 4.03774281578256]"
          ]
        },
        {
          "output_type": "stream",
          "name": "stderr",
          "text": [
            "/usr/local/lib/python3.11/dist-packages/xgboost/core.py:158: UserWarning: [15:26:53] WARNING: /workspace/src/learner.cc:740: \n",
            "Parameters: { \"lambda_reg\" } are not used.\n",
            "\n",
            "  warnings.warn(smsg, UserWarning)\n",
            "\n"
          ]
        },
        {
          "output_type": "stream",
          "name": "stdout",
          "text": [
            "\r 81%|████████  | 81/100 [04:51<00:52,  2.76s/trial, best loss: 4.03774281578256]"
          ]
        },
        {
          "output_type": "stream",
          "name": "stderr",
          "text": [
            "/usr/local/lib/python3.11/dist-packages/xgboost/core.py:158: UserWarning: [15:26:56] WARNING: /workspace/src/learner.cc:740: \n",
            "Parameters: { \"lambda_reg\" } are not used.\n",
            "\n",
            "  warnings.warn(smsg, UserWarning)\n",
            "\n"
          ]
        },
        {
          "output_type": "stream",
          "name": "stdout",
          "text": [
            "\r 82%|████████▏ | 82/100 [04:53<00:47,  2.66s/trial, best loss: 4.03774281578256]"
          ]
        },
        {
          "output_type": "stream",
          "name": "stderr",
          "text": [
            "/usr/local/lib/python3.11/dist-packages/xgboost/core.py:158: UserWarning: [15:26:58] WARNING: /workspace/src/learner.cc:740: \n",
            "Parameters: { \"lambda_reg\" } are not used.\n",
            "\n",
            "  warnings.warn(smsg, UserWarning)\n",
            "\n"
          ]
        },
        {
          "output_type": "stream",
          "name": "stdout",
          "text": [
            "\r 83%|████████▎ | 83/100 [04:55<00:42,  2.50s/trial, best loss: 4.03774281578256]"
          ]
        },
        {
          "output_type": "stream",
          "name": "stderr",
          "text": [
            "/usr/local/lib/python3.11/dist-packages/xgboost/core.py:158: UserWarning: [15:27:01] WARNING: /workspace/src/learner.cc:740: \n",
            "Parameters: { \"lambda_reg\" } are not used.\n",
            "\n",
            "  warnings.warn(smsg, UserWarning)\n",
            "\n"
          ]
        },
        {
          "output_type": "stream",
          "name": "stdout",
          "text": [
            "\r 84%|████████▍ | 84/100 [04:58<00:39,  2.47s/trial, best loss: 4.03774281578256]"
          ]
        },
        {
          "output_type": "stream",
          "name": "stderr",
          "text": [
            "/usr/local/lib/python3.11/dist-packages/xgboost/core.py:158: UserWarning: [15:27:03] WARNING: /workspace/src/learner.cc:740: \n",
            "Parameters: { \"lambda_reg\" } are not used.\n",
            "\n",
            "  warnings.warn(smsg, UserWarning)\n",
            "\n"
          ]
        },
        {
          "output_type": "stream",
          "name": "stdout",
          "text": [
            "\r 85%|████████▌ | 85/100 [05:01<00:40,  2.69s/trial, best loss: 4.03774281578256]"
          ]
        },
        {
          "output_type": "stream",
          "name": "stderr",
          "text": [
            "/usr/local/lib/python3.11/dist-packages/xgboost/core.py:158: UserWarning: [15:27:06] WARNING: /workspace/src/learner.cc:740: \n",
            "Parameters: { \"lambda_reg\" } are not used.\n",
            "\n",
            "  warnings.warn(smsg, UserWarning)\n",
            "\n"
          ]
        },
        {
          "output_type": "stream",
          "name": "stdout",
          "text": [
            "\r 86%|████████▌ | 86/100 [05:04<00:40,  2.90s/trial, best loss: 4.03774281578256]"
          ]
        },
        {
          "output_type": "stream",
          "name": "stderr",
          "text": [
            "/usr/local/lib/python3.11/dist-packages/xgboost/core.py:158: UserWarning: [15:27:09] WARNING: /workspace/src/learner.cc:740: \n",
            "Parameters: { \"lambda_reg\" } are not used.\n",
            "\n",
            "  warnings.warn(smsg, UserWarning)\n",
            "\n"
          ]
        },
        {
          "output_type": "stream",
          "name": "stdout",
          "text": [
            "\r 87%|████████▋ | 87/100 [05:06<00:31,  2.43s/trial, best loss: 4.03774281578256]"
          ]
        },
        {
          "output_type": "stream",
          "name": "stderr",
          "text": [
            "/usr/local/lib/python3.11/dist-packages/xgboost/core.py:158: UserWarning: [15:27:11] WARNING: /workspace/src/learner.cc:740: \n",
            "Parameters: { \"lambda_reg\" } are not used.\n",
            "\n",
            "  warnings.warn(smsg, UserWarning)\n",
            "\n"
          ]
        },
        {
          "output_type": "stream",
          "name": "stdout",
          "text": [
            "\r 88%|████████▊ | 88/100 [05:08<00:27,  2.27s/trial, best loss: 4.03774281578256]"
          ]
        },
        {
          "output_type": "stream",
          "name": "stderr",
          "text": [
            "/usr/local/lib/python3.11/dist-packages/xgboost/core.py:158: UserWarning: [15:27:13] WARNING: /workspace/src/learner.cc:740: \n",
            "Parameters: { \"lambda_reg\" } are not used.\n",
            "\n",
            "  warnings.warn(smsg, UserWarning)\n",
            "\n"
          ]
        },
        {
          "output_type": "stream",
          "name": "stdout",
          "text": [
            "\r 89%|████████▉ | 89/100 [05:12<00:31,  2.88s/trial, best loss: 4.03774281578256]"
          ]
        },
        {
          "output_type": "stream",
          "name": "stderr",
          "text": [
            "/usr/local/lib/python3.11/dist-packages/xgboost/core.py:158: UserWarning: [15:27:17] WARNING: /workspace/src/learner.cc:740: \n",
            "Parameters: { \"lambda_reg\" } are not used.\n",
            "\n",
            "  warnings.warn(smsg, UserWarning)\n",
            "\n"
          ]
        },
        {
          "output_type": "stream",
          "name": "stdout",
          "text": [
            "\r 90%|█████████ | 90/100 [05:14<00:26,  2.70s/trial, best loss: 4.03774281578256]"
          ]
        },
        {
          "output_type": "stream",
          "name": "stderr",
          "text": [
            "/usr/local/lib/python3.11/dist-packages/xgboost/core.py:158: UserWarning: [15:27:19] WARNING: /workspace/src/learner.cc:740: \n",
            "Parameters: { \"lambda_reg\" } are not used.\n",
            "\n",
            "  warnings.warn(smsg, UserWarning)\n",
            "\n"
          ]
        },
        {
          "output_type": "stream",
          "name": "stdout",
          "text": [
            "\r 91%|█████████ | 91/100 [05:16<00:21,  2.39s/trial, best loss: 4.03774281578256]"
          ]
        },
        {
          "output_type": "stream",
          "name": "stderr",
          "text": [
            "/usr/local/lib/python3.11/dist-packages/xgboost/core.py:158: UserWarning: [15:27:21] WARNING: /workspace/src/learner.cc:740: \n",
            "Parameters: { \"lambda_reg\" } are not used.\n",
            "\n",
            "  warnings.warn(smsg, UserWarning)\n",
            "\n"
          ]
        },
        {
          "output_type": "stream",
          "name": "stdout",
          "text": [
            "\r 92%|█████████▏| 92/100 [05:18<00:18,  2.27s/trial, best loss: 4.03774281578256]"
          ]
        },
        {
          "output_type": "stream",
          "name": "stderr",
          "text": [
            "/usr/local/lib/python3.11/dist-packages/xgboost/core.py:158: UserWarning: [15:27:23] WARNING: /workspace/src/learner.cc:740: \n",
            "Parameters: { \"lambda_reg\" } are not used.\n",
            "\n",
            "  warnings.warn(smsg, UserWarning)\n",
            "\n"
          ]
        },
        {
          "output_type": "stream",
          "name": "stdout",
          "text": [
            "\r 93%|█████████▎| 93/100 [05:19<00:13,  1.95s/trial, best loss: 4.03774281578256]"
          ]
        },
        {
          "output_type": "stream",
          "name": "stderr",
          "text": [
            "/usr/local/lib/python3.11/dist-packages/xgboost/core.py:158: UserWarning: [15:27:24] WARNING: /workspace/src/learner.cc:740: \n",
            "Parameters: { \"lambda_reg\" } are not used.\n",
            "\n",
            "  warnings.warn(smsg, UserWarning)\n",
            "\n"
          ]
        },
        {
          "output_type": "stream",
          "name": "stdout",
          "text": [
            "\r 94%|█████████▍| 94/100 [05:21<00:11,  2.00s/trial, best loss: 4.03774281578256]"
          ]
        },
        {
          "output_type": "stream",
          "name": "stderr",
          "text": [
            "/usr/local/lib/python3.11/dist-packages/xgboost/core.py:158: UserWarning: [15:27:26] WARNING: /workspace/src/learner.cc:740: \n",
            "Parameters: { \"lambda_reg\" } are not used.\n",
            "\n",
            "  warnings.warn(smsg, UserWarning)\n",
            "\n"
          ]
        },
        {
          "output_type": "stream",
          "name": "stdout",
          "text": [
            "\r 95%|█████████▌| 95/100 [05:26<00:14,  2.98s/trial, best loss: 4.03774281578256]"
          ]
        },
        {
          "output_type": "stream",
          "name": "stderr",
          "text": [
            "/usr/local/lib/python3.11/dist-packages/xgboost/core.py:158: UserWarning: [15:27:32] WARNING: /workspace/src/learner.cc:740: \n",
            "Parameters: { \"lambda_reg\" } are not used.\n",
            "\n",
            "  warnings.warn(smsg, UserWarning)\n",
            "\n"
          ]
        },
        {
          "output_type": "stream",
          "name": "stdout",
          "text": [
            "\r 96%|█████████▌| 96/100 [05:31<00:13,  3.35s/trial, best loss: 4.03774281578256]"
          ]
        },
        {
          "output_type": "stream",
          "name": "stderr",
          "text": [
            "/usr/local/lib/python3.11/dist-packages/xgboost/core.py:158: UserWarning: [15:27:36] WARNING: /workspace/src/learner.cc:740: \n",
            "Parameters: { \"lambda_reg\" } are not used.\n",
            "\n",
            "  warnings.warn(smsg, UserWarning)\n",
            "\n"
          ]
        },
        {
          "output_type": "stream",
          "name": "stdout",
          "text": [
            "\r 97%|█████████▋| 97/100 [05:33<00:09,  3.01s/trial, best loss: 4.03774281578256]"
          ]
        },
        {
          "output_type": "stream",
          "name": "stderr",
          "text": [
            "/usr/local/lib/python3.11/dist-packages/xgboost/core.py:158: UserWarning: [15:27:38] WARNING: /workspace/src/learner.cc:740: \n",
            "Parameters: { \"lambda_reg\" } are not used.\n",
            "\n",
            "  warnings.warn(smsg, UserWarning)\n",
            "\n"
          ]
        },
        {
          "output_type": "stream",
          "name": "stdout",
          "text": [
            "\r 98%|█████████▊| 98/100 [05:39<00:08,  4.01s/trial, best loss: 4.03774281578256]"
          ]
        },
        {
          "output_type": "stream",
          "name": "stderr",
          "text": [
            "/usr/local/lib/python3.11/dist-packages/xgboost/core.py:158: UserWarning: [15:27:44] WARNING: /workspace/src/learner.cc:740: \n",
            "Parameters: { \"lambda_reg\" } are not used.\n",
            "\n",
            "  warnings.warn(smsg, UserWarning)\n",
            "\n"
          ]
        },
        {
          "output_type": "stream",
          "name": "stdout",
          "text": [
            "\r 99%|█████████▉| 99/100 [05:45<00:04,  4.48s/trial, best loss: 4.03774281578256]"
          ]
        },
        {
          "output_type": "stream",
          "name": "stderr",
          "text": [
            "/usr/local/lib/python3.11/dist-packages/xgboost/core.py:158: UserWarning: [15:27:50] WARNING: /workspace/src/learner.cc:740: \n",
            "Parameters: { \"lambda_reg\" } are not used.\n",
            "\n",
            "  warnings.warn(smsg, UserWarning)\n",
            "\n"
          ]
        },
        {
          "output_type": "stream",
          "name": "stdout",
          "text": [
            "100%|██████████| 100/100 [05:48<00:00,  3.48s/trial, best loss: 4.03774281578256]\n",
            "Best Hyperparameters: {'alpha': np.float64(0.3607712730571731), 'colsample_bytree': np.float64(0.807985696751597), 'gamma': np.float64(0.7680459836077106), 'lambda_reg': np.float64(0.5943431574940372), 'learning_rate': np.float64(0.04379714371913254), 'max_depth': np.float64(4.0), 'n_estimators': np.float64(251.0), 'subsample': np.float64(0.9969744355477278)}\n"
          ]
        },
        {
          "output_type": "stream",
          "name": "stderr",
          "text": [
            "/usr/local/lib/python3.11/dist-packages/xgboost/core.py:158: UserWarning: [15:27:53] WARNING: /workspace/src/learner.cc:740: \n",
            "Parameters: { \"lambda_reg\" } are not used.\n",
            "\n",
            "  warnings.warn(smsg, UserWarning)\n"
          ]
        },
        {
          "output_type": "stream",
          "name": "stdout",
          "text": [
            "Test MSE: 4.03774281578256\n",
            "Test R²: 0.33206325315646856\n"
          ]
        }
      ]
    },
    {
      "cell_type": "markdown",
      "source": [
        "Best Hyperparameters:\n",
        "alpha = 0.3608\n",
        "colsample_bytree = 0.8080\n",
        "gamma = 0.7680\n",
        "lambda_reg = 0.5943\n",
        "learning_rate = 0.0438\n",
        "max_depth = 4\n",
        "n_estimators = 251\n",
        "subsample = 0.9970"
      ],
      "metadata": {
        "id": "iH7LO32eRbkH"
      }
    },
    {
      "cell_type": "markdown",
      "source": [
        "The XGBoost model performs better than simple models like linear regression (which may have had a lower R²), but there is still significant room for improvement.\n",
        "The model explains about 33% of the variation in ROI. This indicates that the XGBoost model is not fully capturing all the complex relationships between features and ROI."
      ],
      "metadata": {
        "id": "50_q8HPFRi8P"
      }
    },
    {
      "cell_type": "markdown",
      "source": [
        "#Simplex Method"
      ],
      "metadata": {
        "id": "NF5OdWcjmP5k"
      }
    },
    {
      "cell_type": "markdown",
      "source": [
        "We have four decision variables:\n",
        "\n",
        "x1 -Engagement Score\n",
        "\n",
        "x2 – Clicks\n",
        "\n",
        "x3 – Impressions\n",
        "\n",
        "x4 – Channel Used\n",
        "\n",
        "ROI=5x1+ 1.5x2 +0.01x  −10x4\n",
        "​\n",
        "CONSTRAINTS :\n",
        " x1 ≤ 6\n",
        "\n",
        "x2 ≤ 100\n",
        "\n",
        "x3 ≤ 5000\n",
        "\n",
        "x4 ≤ 1\n",
        "\n",
        "x2 ≤ x3   (the number of clicks cannot exceed the number of impressions)\n",
        "\n",
        "x1, x2, x3, x4 ≥ 0   (non-negativity of decision variables)\n",
        "\n"
      ],
      "metadata": {
        "id": "nPilsuX8mSwL"
      }
    },
    {
      "cell_type": "code",
      "source": [
        "import numpy as np\n",
        "from scipy.optimize import linprog\n",
        "\n",
        "# Coefficients of the objective function (for minimization of -ROI)\n",
        "c = np.array([-.1, -0.001, 0.0005, 0.08])\n",
        "# This corresponds to -5*x1 + -1.5*x2 + -0.01*x3 + 10*x4 (minimize -ROI).\n",
        "\n",
        "# Inequality constraint matrix (A_ub) and vector (b_ub) for A_ub @ x <= b_ub\n",
        "A_ub = np.array([\n",
        "    [1,   0,    0,   0],   # x1 <= 6\n",
        "    [0,   1,    0,   0],   # x2 <= 100\n",
        "    [0,   0,    1,   0],   # x3 <= 5000\n",
        "    [0,   0,    0,   1],   # x4 <= 1\n",
        "    [0,   1,   -1,   0]    # x2 - x3 <= 0  (ensures x2 <= x3)\n",
        "])\n",
        "b_ub = np.array([6, 100, 5000, 1, 0])\n",
        "\n",
        "# Variable bounds: (min, max) for each x1, x2, x3, x4.\n",
        "# All variables are >=0, and we can use the given upper limits.\n",
        "bounds = [(0, 6),   # x1 between 0 and 6\n",
        "          (0, 100), # x2 between 0 and 100\n",
        "          (0, 5000),# x3 between 0 and 5000\n",
        "          (0, 1)]   # x4 between 0 and 1\n",
        "\n",
        "# Solve the linear program\n",
        "result = linprog(c, A_ub=A_ub, b_ub=b_ub, bounds=bounds, method=\"highs\")\n",
        "\n",
        "# Check if an optimal solution was found and output the results\n",
        "if result.success:\n",
        "    # result.x contains the optimal values for [x1, x2, x3, x4]\n",
        "    x1_opt, x2_opt, x3_opt, x4_opt = result.x\n",
        "    max_ROI = -result.fun  # remember to negate the minimized objective to get max ROI\n",
        "    print(\"Optimal solution:\")\n",
        "    print(f\"x1 = {x1_opt:.0f}, x2 = {x2_opt:.0f}, x3 = {x3_opt:.0f}, x4 = {x4_opt:.0f}\")\n",
        "    print(f\"Maximum ROI = {max_ROI:.0f}\")\n",
        "else:\n",
        "    print(\"Optimization was not successful.\")\n"
      ],
      "metadata": {
        "colab": {
          "base_uri": "https://localhost:8080/"
        },
        "id": "lPFdYbVOn2k6",
        "outputId": "6cf29b96-729e-4e29-9d39-6d7c6645fdd0"
      },
      "execution_count": 24,
      "outputs": [
        {
          "output_type": "stream",
          "name": "stdout",
          "text": [
            "Optimal solution:\n",
            "x1 = 6, x2 = 100, x3 = 100, x4 = 0\n",
            "Maximum ROI = 1\n"
          ]
        }
      ]
    },
    {
      "cell_type": "markdown",
      "source": [
        "now making some changing in coeffiecnts"
      ],
      "metadata": {
        "id": "yyxqRPyEo2JF"
      }
    },
    {
      "cell_type": "code",
      "source": [
        "import numpy as np\n",
        "from scipy.optimize import linprog\n",
        "\n",
        "# Coefficients of the objective function (for minimization of -ROI)\n",
        "c = np.array([-5.0, -1.5, -0.01, 10.0])\n",
        "# This corresponds to -5*x1 + -1.5*x2 + -0.01*x3 + 10*x4 (minimize -ROI).\n",
        "\n",
        "# Inequality constraint matrix (A_ub) and vector (b_ub) for A_ub @ x <= b_ub\n",
        "A_ub = np.array([\n",
        "    [1,   0,    0,   0],   # x1 <= 6\n",
        "    [0,   1,    0,   0],   # x2 <= 100\n",
        "    [0,   0,    1,   0],   # x3 <= 5000\n",
        "    [0,   0,    0,   1],   # x4 <= 1\n",
        "    [0,   1,   -1,   0]    # x2 - x3 <= 0  (ensures x2 <= x3)\n",
        "])\n",
        "b_ub = np.array([6, 100, 5000, 1, 0])\n",
        "\n",
        "# Variable bounds: (min, max) for each x1, x2, x3, x4.\n",
        "# All variables are >=0, and we can use the given upper limits.\n",
        "bounds = [(0, 6),   # x1 between 0 and 6\n",
        "          (0, 100), # x2 between 0 and 100\n",
        "          (0, 5000),# x3 between 0 and 5000\n",
        "          (0, 1)]   # x4 between 0 and 1\n",
        "\n",
        "# Solve the linear program\n",
        "result = linprog(c, A_ub=A_ub, b_ub=b_ub, bounds=bounds, method=\"highs\")\n",
        "\n",
        "# Check if an optimal solution was found and output the results\n",
        "if result.success:\n",
        "    # result.x contains the optimal values for [x1, x2, x3, x4]\n",
        "    x1_opt, x2_opt, x3_opt, x4_opt = result.x\n",
        "    max_ROI = -result.fun  # remember to negate the minimized objective to get max ROI\n",
        "    print(\"Optimal solution:\")\n",
        "    print(f\"x1 = {x1_opt:.0f}, x2 = {x2_opt:.0f}, x3 = {x3_opt:.0f}, x4 = {x4_opt:.0f}\")\n",
        "    print(f\"Maximum ROI = {max_ROI:.0f}\")\n",
        "else:\n",
        "    print(\"Optimization was not successful.\")\n"
      ],
      "metadata": {
        "colab": {
          "base_uri": "https://localhost:8080/"
        },
        "id": "N088FBP-SY_5",
        "outputId": "8e1a1ccf-813f-48c6-f39a-4852a89dffb0"
      },
      "execution_count": 19,
      "outputs": [
        {
          "output_type": "stream",
          "name": "stdout",
          "text": [
            "Optimal solution:\n",
            "x1 = 6, x2 = 100, x3 = 5000, x4 = 0\n",
            "Maximum ROI = 230\n"
          ]
        }
      ]
    },
    {
      "cell_type": "code",
      "source": [
        "import matplotlib.pyplot as plt\n",
        "\n",
        "# Define the ROI values from each method (these should be calculated based on your results)\n",
        "# Let's assume these are the calculated ROI values:\n",
        "roi_values = {\n",
        "    'OLS Regression': 1.4,  # Replace with actual OLS ROI value\n",
        "    'Ridge Regression': 1.4,  # Replace with actual Ridge ROI value\n",
        "    'Lasso Regression': 1.6,  # Replace with actual Lasso ROI value\n",
        "    'Bayesian Optimization': 4.1,  # Replace with actual Bayesian Optimization ROI\n",
        "    'Genetic Algorithm': 4768,  # Replace with actual GA ROI\n",
        "    'Simplex Method': 230  # Replace with actual Simplex ROI\n",
        "}\n",
        "\n",
        "# Plotting the ROI comparison\n",
        "methods = list(roi_values.keys())\n",
        "roi = list(roi_values.values())\n",
        "\n",
        "plt.figure(figsize=(10, 6))\n",
        "plt.barh(methods, roi, color='lightblue')\n",
        "plt.xlabel('ROI')\n",
        "plt.title('Comparison of ROI from Different Optimization Methods')\n",
        "plt.show()\n"
      ],
      "metadata": {
        "colab": {
          "base_uri": "https://localhost:8080/",
          "height": 564
        },
        "id": "jawPYnaaj3Mq",
        "outputId": "00d1f68c-8dca-42b2-9b6b-121bb4427215"
      },
      "execution_count": 20,
      "outputs": [
        {
          "output_type": "display_data",
          "data": {
            "text/plain": [
              "<Figure size 1000x600 with 1 Axes>"
            ],
            "image/png": "[encoded data removed]"
          },
          "metadata": {}
        }
      ]
    },
    {
      "cell_type": "code",
      "source": [],
      "metadata": {
        "id": "f8oEnqL5ov7D"
      },
      "execution_count": null,
      "outputs": []
    }
  ]
}